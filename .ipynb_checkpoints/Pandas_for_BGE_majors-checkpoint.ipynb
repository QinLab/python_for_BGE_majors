{
 "cells": [
  {
   "cell_type": "markdown",
   "metadata": {},
   "source": [
    "<a id='irisExample'></a>\n",
    "\n",
    "## Python for Biology, Geology and Environmental Science Majors (BGE).\n",
    "\n",
    "This notebook is intended for Python beginners, it assumes basic knowledge of python's syntax and data types. Intermediate python users may find it useful to skip ahead to one of the **concise examples**.\n",
    "\n",
    "### Table of Contents\n",
    " - [Pandas for working with tabular data](#pandasIntro)\n",
    "     - [Pandas' Data Structures](#dataStructures)\n",
    "     - [Location Selection](#locSyntax)\n",
    "     - [Pandas recap](#pandasRecap)\n",
    " - [Hypothesis Testing](#hypothesisTesting)\n",
    "     - [Hypothesis recap](#hypothesisRecap)\n",
    " - [Visualizing the results](#visualization)\n",
    " - [Operators reference](#operators)\n",
    " \n",
    "\n",
    "### The Iris Dataset\n",
    "To become familure with using python for BGE applications, we will be using example data adapted from Sir Ronald Fisher's [Iris dataset](https://archive.ics.uci.edu/ml/datasets/iris). \n",
    "\n",
    "![Iris virginica](assets/irisVirginica.png)\n",
    "<center>photo: iNaturalist user \"peter-f\"</center>\n",
    "\n",
    "\n",
    "In this example, imagine you are a botanist writing a dichotomous key and need to differentiate 2 species of Iris:  _Iris setosa_, and _Iris virginica_. You hypothesise that petal length can be used to differentiate these species. To test your hypothesis, you obtained a spreadsheet containing **50** inflorescence measurements for each species. **However, you were warned** the _Iris virginica_ data was recorded in inches while the other measurements were recorded in centimeters. You'll need to:\n",
    "\n",
    "- Load the measurement data into Pandas\n",
    "- Clean the data\n",
    "- Perform a t-test on _I. setosa_ and _I. virginica_ petal lengths."
   ]
  },
  {
   "cell_type": "markdown",
   "metadata": {},
   "source": [
    "<a id='pandasIntro'></a>\n",
    "## Pandas for working with tabular data\n",
    "\n",
    "Pandas is a powerful library for working with tabular data. \n",
    "\n",
    "To start, we'll need to **Import** Pandas' functions into our script. Imports usually look like this:\n",
    "\n",
    "```python\n",
    "import library_name\n",
    "```\n",
    "Then the library's functions are available following the library name. For example:\n",
    "\n",
    "```python\n",
    "library_name.function_name()\n",
    "```\n",
    "\n",
    "Sometimes you'll see users import pandas and assign it a shorter variable name, like this:\n",
    "```python\n",
    "import pandas as pd\n",
    "```\n",
    "\n",
    "When this is done, the library would be accessed as:\n",
    "```python\n",
    "pd.some_function()\n",
    "```"
   ]
  },
  {
   "cell_type": "code",
   "execution_count": 1,
   "metadata": {},
   "outputs": [],
   "source": [
    "# for simplicity we'll stick to the default name pandas.\n",
    "import pandas"
   ]
  },
  {
   "cell_type": "markdown",
   "metadata": {},
   "source": [
    "The data in a spreadsheet file named `iris_measurements.csv`, since it a `.csv` file pandas can load it using the [`read_csv()`](https://pandas.pydata.org/pandas-docs/stable/reference/api/pandas.read_csv.html) function. Since it is a spreadsheet, pandas will recognize it as a [\"DataFrame\"](https://pandas.pydata.org/pandas-docs/stable/reference/api/pandas.DataFrame.html). A common abbreviated variable name for a pandas DataFrame is `df`."
   ]
  },
  {
   "cell_type": "code",
   "execution_count": 2,
   "metadata": {},
   "outputs": [],
   "source": [
    "df = pandas.read_csv('iris_measurements.csv')"
   ]
  },
  {
   "cell_type": "markdown",
   "metadata": {},
   "source": [
    "After loading any data, it is a good habit to spot checking it by viewing portions of it. Pandas offers a few convienent methods to spot check data:\n",
    "\n",
    "- The `head(n)` function displays the top 'n' rows of a DataFrame.\n",
    "- The `tail(n)` function displays the top 'n' rows of a DataFrame.\n",
    "- The `sample(n)` function displays n randomly sampled rows from the DataFrame.\n",
    "- If no numbers is provided, both `head()` and `tail()` default to 5, while `sample()` defaults to 1.\n",
    "\n",
    "In many python intrepreters, you would use the `print()` command to display something on the screen\n",
    "\n",
    "However in a jupyter notebook, you have access to the `display()` function which acts like print except displays the results in a well formatted manner."
   ]
  },
  {
   "cell_type": "code",
   "execution_count": 3,
   "metadata": {},
   "outputs": [
    {
     "data": {
      "text/html": [
       "<div>\n",
       "<style scoped>\n",
       "    .dataframe tbody tr th:only-of-type {\n",
       "        vertical-align: middle;\n",
       "    }\n",
       "\n",
       "    .dataframe tbody tr th {\n",
       "        vertical-align: top;\n",
       "    }\n",
       "\n",
       "    .dataframe thead th {\n",
       "        text-align: right;\n",
       "    }\n",
       "</style>\n",
       "<table border=\"1\" class=\"dataframe\">\n",
       "  <thead>\n",
       "    <tr style=\"text-align: right;\">\n",
       "      <th></th>\n",
       "      <th>sepal_length</th>\n",
       "      <th>sepal_width</th>\n",
       "      <th>petal_length</th>\n",
       "      <th>petal_width</th>\n",
       "      <th>species</th>\n",
       "    </tr>\n",
       "  </thead>\n",
       "  <tbody>\n",
       "    <tr>\n",
       "      <th>0</th>\n",
       "      <td>7.0</td>\n",
       "      <td>3.2</td>\n",
       "      <td>4.7</td>\n",
       "      <td>1.4</td>\n",
       "      <td>Iris-versicolor</td>\n",
       "    </tr>\n",
       "    <tr>\n",
       "      <th>1</th>\n",
       "      <td>6.4</td>\n",
       "      <td>3.2</td>\n",
       "      <td>4.5</td>\n",
       "      <td>1.5</td>\n",
       "      <td>Iris-versicolor</td>\n",
       "    </tr>\n",
       "  </tbody>\n",
       "</table>\n",
       "</div>"
      ],
      "text/plain": [
       "   sepal_length  sepal_width  petal_length  petal_width          species\n",
       "0           7.0          3.2           4.7          1.4  Iris-versicolor\n",
       "1           6.4          3.2           4.5          1.5  Iris-versicolor"
      ]
     },
     "metadata": {},
     "output_type": "display_data"
    },
    {
     "data": {
      "text/html": [
       "<div>\n",
       "<style scoped>\n",
       "    .dataframe tbody tr th:only-of-type {\n",
       "        vertical-align: middle;\n",
       "    }\n",
       "\n",
       "    .dataframe tbody tr th {\n",
       "        vertical-align: top;\n",
       "    }\n",
       "\n",
       "    .dataframe thead th {\n",
       "        text-align: right;\n",
       "    }\n",
       "</style>\n",
       "<table border=\"1\" class=\"dataframe\">\n",
       "  <thead>\n",
       "    <tr style=\"text-align: right;\">\n",
       "      <th></th>\n",
       "      <th>sepal_length</th>\n",
       "      <th>sepal_width</th>\n",
       "      <th>petal_length</th>\n",
       "      <th>petal_width</th>\n",
       "      <th>species</th>\n",
       "    </tr>\n",
       "  </thead>\n",
       "  <tbody>\n",
       "    <tr>\n",
       "      <th>63</th>\n",
       "      <td>2.244</td>\n",
       "      <td>0.984</td>\n",
       "      <td>1.969</td>\n",
       "      <td>0.787</td>\n",
       "      <td>Iris-virginica</td>\n",
       "    </tr>\n",
       "  </tbody>\n",
       "</table>\n",
       "</div>"
      ],
      "text/plain": [
       "    sepal_length  sepal_width  petal_length  petal_width         species\n",
       "63         2.244        0.984         1.969        0.787  Iris-virginica"
      ]
     },
     "metadata": {},
     "output_type": "display_data"
    },
    {
     "data": {
      "text/html": [
       "<div>\n",
       "<style scoped>\n",
       "    .dataframe tbody tr th:only-of-type {\n",
       "        vertical-align: middle;\n",
       "    }\n",
       "\n",
       "    .dataframe tbody tr th {\n",
       "        vertical-align: top;\n",
       "    }\n",
       "\n",
       "    .dataframe thead th {\n",
       "        text-align: right;\n",
       "    }\n",
       "</style>\n",
       "<table border=\"1\" class=\"dataframe\">\n",
       "  <thead>\n",
       "    <tr style=\"text-align: right;\">\n",
       "      <th></th>\n",
       "      <th>sepal_length</th>\n",
       "      <th>sepal_width</th>\n",
       "      <th>petal_length</th>\n",
       "      <th>petal_width</th>\n",
       "      <th>species</th>\n",
       "    </tr>\n",
       "  </thead>\n",
       "  <tbody>\n",
       "    <tr>\n",
       "      <th>148</th>\n",
       "      <td>5.3</td>\n",
       "      <td>3.7</td>\n",
       "      <td>1.5</td>\n",
       "      <td>0.2</td>\n",
       "      <td>Iris-setosa</td>\n",
       "    </tr>\n",
       "    <tr>\n",
       "      <th>149</th>\n",
       "      <td>5.0</td>\n",
       "      <td>3.3</td>\n",
       "      <td>1.4</td>\n",
       "      <td>0.2</td>\n",
       "      <td>Iris-setosa</td>\n",
       "    </tr>\n",
       "  </tbody>\n",
       "</table>\n",
       "</div>"
      ],
      "text/plain": [
       "     sepal_length  sepal_width  petal_length  petal_width      species\n",
       "148           5.3          3.7           1.5          0.2  Iris-setosa\n",
       "149           5.0          3.3           1.4          0.2  Iris-setosa"
      ]
     },
     "metadata": {},
     "output_type": "display_data"
    }
   ],
   "source": [
    "# try out a few of the spot checking methods\n",
    "display(df.head(2))\n",
    "display(df.sample())\n",
    "display(df.tail(2))"
   ]
  },
  {
   "cell_type": "markdown",
   "metadata": {},
   "source": [
    "Another useful method for getting a sense of the data is to get the `shape` of the data.\n",
    "\n",
    "```{python}\n",
    "display(df.shape)\n",
    "```\n",
    "\n",
    "Notice how, retrieving the DataFrame's shape does not require the use of `( )`, this is an attribute of the dataframe and not a function provided with Pandas. The \"shape\" returns a tuple describes the total rows, and columns present."
   ]
  },
  {
   "cell_type": "code",
   "execution_count": 4,
   "metadata": {},
   "outputs": [
    {
     "data": {
      "text/plain": [
       "(150, 5)"
      ]
     },
     "metadata": {},
     "output_type": "display_data"
    }
   ],
   "source": [
    "display(df.shape)"
   ]
  },
  {
   "cell_type": "markdown",
   "metadata": {},
   "source": [
    "After running the cell above, you may have noticed the `shape` attribute is telling us we have 150 rows, and 5 columns but we only expected 50 rows for each species. It seems there are extraneous data included. Understanding Pandas Data Structures can help to select only the data we need."
   ]
  },
  {
   "cell_type": "markdown",
   "metadata": {},
   "source": [
    "<a id='dataStructures'></a>\n",
    "## Pandas' Data Structures\n",
    "\n",
    "In pandas, when you have a group of values it is called a [series](https://pandas.pydata.org/pandas-docs/stable/reference/api/pandas.Series.html). A series is a single dimension of data, such as multiple trait measurements from a single Iris specimen:\n",
    "\n",
    "![row](assets/row.png)\n",
    "***\n",
    "\n",
    "Or, instead perhaps a single trait measured from multiple specimens:\n",
    "\n",
    "![col](assets/col.png)\n",
    "***\n",
    "\n",
    "In Pandas, multi-dimentional tabular data is called a [\"DataFrame\"](https://pandas.pydata.org/pandas-docs/stable/reference/api/pandas.DataFrame.html).\n",
    "\n",
    "![df](assets/df.png)\n",
    "***\n",
    "\n",
    "Each facet of this dataset, trait measurements and specimens are organized along 2 axes:\n",
    "<font color=#b58900>rows</font> and <font color=blue>columns</font>.\n",
    "\n",
    "By default, each <font color=#b58900>row</font> is assigned a unique identification number also known as an index. The index is useful to differentiate specific rows. If your data already includes a method to identify rows, it is possible to set a column to be the index.\n",
    "\n",
    "![DataFrame index](assets/df_row_highlighted.png)\n",
    "***\n",
    "\n",
    "<font color=blue>Columns</font> can be identified using the column label.\n",
    "\n",
    "![DataFrame column names](assets/df_col_highlighted.png)\n",
    "***\n",
    "\n",
    "Often working with tabular data means selecting specific subsets of the dataset.\n",
    "\n",
    "We can select a column in the dataframe using brackets:\n",
    "![Column Selection](assets/dfColName.png)\n",
    "***\n",
    "It is also possible to pass a list of columns:\n",
    "```{python}\n",
    "interesting_cols = ['colA', 'colB','colC']\n",
    "df[interesting_cols]\n",
    "```\n",
    "Or by placing the list directly in the brackets.\n",
    "```{python}\n",
    "df[['colA', 'colB','colC']]\n",
    "```\n",
    "Notice how, when we reference a column name we must use quotation marks to indicate we're using the column's name which is a string and not a defined variable.\n",
    "\n",
    "Our DataFrame has extraneous data, we won't be using the `sepal_length`, `sepal_width` or `petal_width` columns. We can overwrite the variable `df` with the results from column selection in order the to simplify our data."
   ]
  },
  {
   "cell_type": "code",
   "execution_count": 5,
   "metadata": {},
   "outputs": [],
   "source": [
    "# save the selection back to the variable df, overwriting it with fewer columns\n",
    "interesting_cols = ['petal_length', 'species']\n",
    "df = df[interesting_cols]\n",
    "\n",
    "# Or\n",
    "\n",
    "df = df[['petal_length', 'species']]"
   ]
  },
  {
   "cell_type": "markdown",
   "metadata": {},
   "source": [
    "<a id='locSyntax'></a>\n",
    "After simplifying the columns, we're ready to start cleaning the data. Recall, at the start of [this example](#irisExample) it was stated the _Iris virginica_ data was recorded in inches. We will select the rows with `Iris virginica` in the  `species` column the convert only those rows from inches to centimeters.\n",
    "\n",
    "There are [many ways](https://pandas.pydata.org/pandas-docs/stable/user_guide/indexing.html) to select specific parts of a DataFrame. In this example, we'll use [.loc](https://pandas.pydata.org/pandas-docs/stable/user_guide/indexing.html#different-choices-for-indexing), or location indexing. The basic syntax looks like this:\n",
    "\n",
    "![Location Selection](assets/dflocsyntax.png)\n",
    "\n",
    "Selection by location indexing, could be visualized as:\n",
    "```{python}\n",
    "df.loc[34, 'petal_length']\n",
    "```\n",
    "![Location Selection](assets/dflocResults.png)\n",
    "\n",
    "Where the results are only the value(s) at the intersection of location labels."
   ]
  },
  {
   "cell_type": "code",
   "execution_count": 6,
   "metadata": {},
   "outputs": [
    {
     "data": {
      "text/plain": [
       "4.5"
      ]
     },
     "metadata": {},
     "output_type": "display_data"
    }
   ],
   "source": [
    "display(df.loc[34, 'petal_length'])"
   ]
  },
  {
   "cell_type": "markdown",
   "metadata": {},
   "source": [
    "The `row_name` and `column_name` critera are flexible, meaning instead of using specific column names or row numbers it is possible to pass in ranges, lists, or even criteria. Here are some examples:\n",
    "\n",
    "***\n",
    "Ranges are indicated using the `:`, if no value is provided for the start (left) or stop (right) all values are returned. For example, to select all rows from 33 to the end (inclusive), and ALL columns:\n",
    "```{python}\n",
    "df.loc[33:, :]\n",
    "```\n",
    "***\n",
    "To select rows ranging between 33-34 (inclusive) and ALL columns:\n",
    "```{python}\n",
    "df.loc[33:34, :]\n",
    "```\n",
    "***\n",
    "While it would be better to simply use: `df['species']`, this would select ALL rows and only the column species:\n",
    "```{python}\n",
    "df.loc[:, 'species']\n",
    "```\n",
    "***\n",
    "It is possible to use lists for row and column selectors, either directly or by using variables.\n",
    "```{python}\n",
    "df.loc[[0,2,45,66] , [petal_length, species]]\n",
    "# Or\n",
    "interesting_rows = [0, 2, 45, 66]\n",
    "interesting_cols = [petal_length, species]\n",
    "df.loc[interesting_rows, interesting_cols]\n",
    "```\n",
    "***\n",
    "When combined with [logical operators](#operators), `.loc` selection can be performed based on conditional criteria. For example, to select the `petal_length` for only those rows in which a `petal_length` is greater than `4.7` you could:\n",
    "```{python}\n",
    "df.loc[ df['petal_length'] > 4.7, 'petal_length']\n",
    "```\n",
    "***\n",
    "Although the code might be more readable by assigning the condition to a variable, and using that in the .loc selection:\n",
    "```{python}\n",
    "row_condition = df['petal_length'] > 4.7\n",
    "df.loc[row_condition, 'petal_length']\n",
    "```\n",
    "***\n",
    "Since we know the `Iris-virginica` data was recorded in improper unites, we'll need to select those rows to convert them to cm:\n",
    "\n",
    "```{python}\n",
    "row_condition = df['species'] == 'Iris-virginica'\n",
    "df.loc[row_condition, :]\n",
    "```\n",
    "***\n",
    "In these examples, notice we're using a column name in the row selection criteria. To understand this, run the cell below to display what the condition is handing off to the `.loc` function:"
   ]
  },
  {
   "cell_type": "code",
   "execution_count": 7,
   "metadata": {},
   "outputs": [
    {
     "data": {
      "text/plain": [
       "57      True\n",
       "88     False\n",
       "93      True\n",
       "62     False\n",
       "101    False\n",
       "Name: species, dtype: bool"
      ]
     },
     "metadata": {},
     "output_type": "display_data"
    }
   ],
   "source": [
    "row_condition = df['species'] == 'Iris-virginica'\n",
    "display(row_condition.sample(5))"
   ]
  },
  {
   "cell_type": "markdown",
   "metadata": {},
   "source": [
    "Notice the results from the cell above is a [series](#dataStructures) of `True` / `False` (boolean) statements, one for each row. When `row_condition` is passed to `.loc` as a row selection criteria it can be thought of like passing a list of those row numbers which which are `True` in the `row_condition` series.\n",
    "\n",
    "Now that we can select the `Iris-virginica` data, let's verify that it looks how we expect:"
   ]
  },
  {
   "cell_type": "code",
   "execution_count": 8,
   "metadata": {},
   "outputs": [
    {
     "data": {
      "text/html": [
       "<div>\n",
       "<style scoped>\n",
       "    .dataframe tbody tr th:only-of-type {\n",
       "        vertical-align: middle;\n",
       "    }\n",
       "\n",
       "    .dataframe tbody tr th {\n",
       "        vertical-align: top;\n",
       "    }\n",
       "\n",
       "    .dataframe thead th {\n",
       "        text-align: right;\n",
       "    }\n",
       "</style>\n",
       "<table border=\"1\" class=\"dataframe\">\n",
       "  <thead>\n",
       "    <tr style=\"text-align: right;\">\n",
       "      <th></th>\n",
       "      <th>petal_length</th>\n",
       "      <th>species</th>\n",
       "    </tr>\n",
       "  </thead>\n",
       "  <tbody>\n",
       "    <tr>\n",
       "      <th>94</th>\n",
       "      <td>2.244</td>\n",
       "      <td>Iris-virginica</td>\n",
       "    </tr>\n",
       "    <tr>\n",
       "      <th>70</th>\n",
       "      <td>2.244</td>\n",
       "      <td>Iris-virginica</td>\n",
       "    </tr>\n",
       "    <tr>\n",
       "      <th>66</th>\n",
       "      <td>2.165</td>\n",
       "      <td>Iris-virginica</td>\n",
       "    </tr>\n",
       "    <tr>\n",
       "      <th>63</th>\n",
       "      <td>1.969</td>\n",
       "      <td>Iris-virginica</td>\n",
       "    </tr>\n",
       "    <tr>\n",
       "      <th>92</th>\n",
       "      <td>2.008</td>\n",
       "      <td>Iris-virginica</td>\n",
       "    </tr>\n",
       "  </tbody>\n",
       "</table>\n",
       "</div>"
      ],
      "text/plain": [
       "    petal_length         species\n",
       "94         2.244  Iris-virginica\n",
       "70         2.244  Iris-virginica\n",
       "66         2.165  Iris-virginica\n",
       "63         1.969  Iris-virginica\n",
       "92         2.008  Iris-virginica"
      ]
     },
     "metadata": {},
     "output_type": "display_data"
    },
    {
     "data": {
      "text/plain": [
       "(35, 2)"
      ]
     },
     "metadata": {},
     "output_type": "display_data"
    }
   ],
   "source": [
    "# spot check at a few random rows\n",
    "display(df.loc[row_condition, :].sample(5))\n",
    "# examine the quantity of rows and columns\n",
    "display(df.loc[row_condition, :].shape)"
   ]
  },
  {
   "cell_type": "markdown",
   "metadata": {},
   "source": [
    "Something is not correct, recall in the [introduction](#irisExample) that we expected to have 50 measurements for each species. Yet, `df.loc[row_condition].shape` is telling us we have 35 rows. It is possible our selection criteria is not including everything we expect it to. \n",
    "\n",
    "We can combine column selection and the `.unique()` function imported by pandas to get an idea of what is happening:"
   ]
  },
  {
   "cell_type": "code",
   "execution_count": 9,
   "metadata": {},
   "outputs": [
    {
     "data": {
      "text/plain": [
       "array(['Iris-versicolor', 'Iris-virginica', 'iris-virginica',\n",
       "       'Iris-setosa'], dtype=object)"
      ]
     },
     "execution_count": 9,
     "metadata": {},
     "output_type": "execute_result"
    }
   ],
   "source": [
    "df['species'].unique()"
   ]
  },
  {
   "cell_type": "markdown",
   "metadata": {},
   "source": [
    "Running the cell above highlights one weakness to these types of conditional selection: case sensitivity. When people enter text into a field, it is common they do so using inconsistant captalization. To a human, it may be obvious that `Iris-virginica` and `iris-virginica` are the same thing yet Python does interpret them as identical. \n",
    "\n",
    "Use the \"is equals to\" [logical operator](#operators) (`==`) to see for yourself:"
   ]
  },
  {
   "cell_type": "code",
   "execution_count": 10,
   "metadata": {},
   "outputs": [
    {
     "data": {
      "text/plain": [
       "False"
      ]
     },
     "metadata": {},
     "output_type": "display_data"
    }
   ],
   "source": [
    "display('Iris-virginica' == 'iris-virginica')"
   ]
  },
  {
   "cell_type": "markdown",
   "metadata": {},
   "source": [
    "One way to solve this issue is to convert all the text to the same case using Python's [string methods](https://docs.python.org/3/library/stdtypes.html#string-methods):"
   ]
  },
  {
   "cell_type": "code",
   "execution_count": 11,
   "metadata": {},
   "outputs": [
    {
     "data": {
      "text/plain": [
       "True"
      ]
     },
     "metadata": {},
     "output_type": "display_data"
    }
   ],
   "source": [
    "display('Iris-virginica'.lower() == 'iris-virginica')"
   ]
  },
  {
   "cell_type": "markdown",
   "metadata": {},
   "source": [
    "Pandas can access these string methods for each item in a selection by using the `.str` operator:"
   ]
  },
  {
   "cell_type": "code",
   "execution_count": 12,
   "metadata": {},
   "outputs": [
    {
     "data": {
      "text/html": [
       "<div>\n",
       "<style scoped>\n",
       "    .dataframe tbody tr th:only-of-type {\n",
       "        vertical-align: middle;\n",
       "    }\n",
       "\n",
       "    .dataframe tbody tr th {\n",
       "        vertical-align: top;\n",
       "    }\n",
       "\n",
       "    .dataframe thead th {\n",
       "        text-align: right;\n",
       "    }\n",
       "</style>\n",
       "<table border=\"1\" class=\"dataframe\">\n",
       "  <thead>\n",
       "    <tr style=\"text-align: right;\">\n",
       "      <th></th>\n",
       "      <th>petal_length</th>\n",
       "      <th>species</th>\n",
       "    </tr>\n",
       "  </thead>\n",
       "  <tbody>\n",
       "    <tr>\n",
       "      <th>50</th>\n",
       "      <td>2.362</td>\n",
       "      <td>Iris-virginica</td>\n",
       "    </tr>\n",
       "    <tr>\n",
       "      <th>51</th>\n",
       "      <td>2.008</td>\n",
       "      <td>Iris-virginica</td>\n",
       "    </tr>\n",
       "    <tr>\n",
       "      <th>52</th>\n",
       "      <td>2.323</td>\n",
       "      <td>iris-virginica</td>\n",
       "    </tr>\n",
       "    <tr>\n",
       "      <th>53</th>\n",
       "      <td>2.205</td>\n",
       "      <td>Iris-virginica</td>\n",
       "    </tr>\n",
       "    <tr>\n",
       "      <th>54</th>\n",
       "      <td>2.283</td>\n",
       "      <td>Iris-virginica</td>\n",
       "    </tr>\n",
       "  </tbody>\n",
       "</table>\n",
       "</div>"
      ],
      "text/plain": [
       "    petal_length         species\n",
       "50         2.362  Iris-virginica\n",
       "51         2.008  Iris-virginica\n",
       "52         2.323  iris-virginica\n",
       "53         2.205  Iris-virginica\n",
       "54         2.283  Iris-virginica"
      ]
     },
     "metadata": {},
     "output_type": "display_data"
    },
    {
     "data": {
      "text/plain": [
       "(50, 2)"
      ]
     },
     "metadata": {},
     "output_type": "display_data"
    }
   ],
   "source": [
    "row_condition = df['species'].str.upper() == 'IRIS-VIRGINICA'\n",
    "display(df.loc[row_condition, :].head(5))\n",
    "display(df.loc[row_condition, :].shape)"
   ]
  },
  {
   "cell_type": "markdown",
   "metadata": {},
   "source": [
    "In the cell above, notice how the selection criteria `row_condition` is now case insensative yet the `species` column data has not changed. In some cases, preserving the data as it was yet selecting based on transformed data may be useful. In our case, it will be easier to clean the species column. We will do this by creating a case insensative selector and setting the `species` column data for only those rows selected."
   ]
  },
  {
   "cell_type": "code",
   "execution_count": 13,
   "metadata": {},
   "outputs": [
    {
     "data": {
      "text/plain": [
       "array(['Iris-versicolor', 'Iris-virginica', 'iris-virginica',\n",
       "       'Iris-setosa'], dtype=object)"
      ]
     },
     "metadata": {},
     "output_type": "display_data"
    },
    {
     "data": {
      "text/plain": [
       "array(['Iris-versicolor', 'Iris-virginica', 'Iris-setosa'], dtype=object)"
      ]
     },
     "metadata": {},
     "output_type": "display_data"
    }
   ],
   "source": [
    "# exmaine the unique 'species' values before cleaning the column\n",
    "display(df['species'].unique())\n",
    "\n",
    "row_condition = df['species'].str.lower() == 'iris-virginica'\n",
    "df.loc[row_condition, 'species'] = 'Iris-virginica'\n",
    "\n",
    "# exmaine the unique 'species' values afterwards\n",
    "display(df['species'].unique())"
   ]
  },
  {
   "cell_type": "markdown",
   "metadata": {},
   "source": [
    "Now that we can select and modify specific rows based on conditions. We are nearly ready to convert the _Iris virginica_ units from inches to centimeters. Since inches are converted to cm using_ `cm = in * 2.54`, we could use this code:\n",
    "```{python}\n",
    "row_condition = df['species'] == 'Iris-virginica'\n",
    "df.loc[row_condition, 'petal_length'] = df.loc[row_condition, 'petal_length']  * 2.54\n",
    "```\n",
    "However the statement above is rather complex, and difficult to read. We can simplify it somewhat using the [mulitply by operator](#operators), which will multiply a variable by a value and save the results back to that same variable. The 2 cells below demonstrate the multiply operator's use:"
   ]
  },
  {
   "cell_type": "code",
   "execution_count": 14,
   "metadata": {},
   "outputs": [
    {
     "data": {
      "text/plain": [
       "5"
      ]
     },
     "metadata": {},
     "output_type": "display_data"
    }
   ],
   "source": [
    "number = 5\n",
    "display(number)"
   ]
  },
  {
   "cell_type": "code",
   "execution_count": 15,
   "metadata": {},
   "outputs": [
    {
     "data": {
      "text/plain": [
       "10"
      ]
     },
     "metadata": {},
     "output_type": "display_data"
    }
   ],
   "source": [
    "number *= 2\n",
    "display(number)"
   ]
  },
  {
   "cell_type": "markdown",
   "metadata": {},
   "source": [
    "Note, that the above cell is functionally similar to:\n",
    "```{python}\n",
    "number = number * 2\n",
    "```\n",
    "Since cells in a jupyter notebook may be run out of order, be cautious when multiplying something by itself. For an example of this, run the above cell a few more times to observe what happens to the variable `number`.\n",
    "***\n",
    "Let's combine what we've learned to convert the _Iris virginica_ units from inches to centimeters. "
   ]
  },
  {
   "cell_type": "code",
   "execution_count": 16,
   "metadata": {},
   "outputs": [],
   "source": [
    "row_condition = df['species'] == 'Iris-virginica'\n",
    "df.loc[row_condition, 'petal_length'] *= 2.54"
   ]
  },
  {
   "cell_type": "markdown",
   "metadata": {},
   "source": [
    "<a id='pandasRecap'></a>\n",
    "## Pandas recap\n",
    "We've introduced a lot of new features associated with pandas. Lets review all that we did in a more concise manner:"
   ]
  },
  {
   "cell_type": "code",
   "execution_count": 17,
   "metadata": {},
   "outputs": [
    {
     "data": {
      "text/html": [
       "<div>\n",
       "<style scoped>\n",
       "    .dataframe tbody tr th:only-of-type {\n",
       "        vertical-align: middle;\n",
       "    }\n",
       "\n",
       "    .dataframe tbody tr th {\n",
       "        vertical-align: top;\n",
       "    }\n",
       "\n",
       "    .dataframe thead th {\n",
       "        text-align: right;\n",
       "    }\n",
       "</style>\n",
       "<table border=\"1\" class=\"dataframe\">\n",
       "  <thead>\n",
       "    <tr style=\"text-align: right;\">\n",
       "      <th></th>\n",
       "      <th>petal_length</th>\n",
       "      <th>species</th>\n",
       "    </tr>\n",
       "  </thead>\n",
       "  <tbody>\n",
       "    <tr>\n",
       "      <th>19</th>\n",
       "      <td>3.90000</td>\n",
       "      <td>Iris-versicolor</td>\n",
       "    </tr>\n",
       "    <tr>\n",
       "      <th>10</th>\n",
       "      <td>3.50000</td>\n",
       "      <td>Iris-versicolor</td>\n",
       "    </tr>\n",
       "    <tr>\n",
       "      <th>61</th>\n",
       "      <td>5.30098</td>\n",
       "      <td>Iris-virginica</td>\n",
       "    </tr>\n",
       "    <tr>\n",
       "      <th>14</th>\n",
       "      <td>3.60000</td>\n",
       "      <td>Iris-versicolor</td>\n",
       "    </tr>\n",
       "    <tr>\n",
       "      <th>2</th>\n",
       "      <td>4.90000</td>\n",
       "      <td>Iris-versicolor</td>\n",
       "    </tr>\n",
       "  </tbody>\n",
       "</table>\n",
       "</div>"
      ],
      "text/plain": [
       "    petal_length          species\n",
       "19       3.90000  Iris-versicolor\n",
       "10       3.50000  Iris-versicolor\n",
       "61       5.30098   Iris-virginica\n",
       "14       3.60000  Iris-versicolor\n",
       "2        4.90000  Iris-versicolor"
      ]
     },
     "metadata": {},
     "output_type": "display_data"
    }
   ],
   "source": [
    "# load in the library\n",
    "import pandas\n",
    "# load in the spreadsheet data\n",
    "df = pandas.read_csv('iris_measurements.csv')\n",
    "# only keep 2 columns\n",
    "df = df[['petal_length', 'species']]\n",
    "# align the species text values\n",
    "row_condition = df['species'].str.lower() == 'iris-virginica'\n",
    "df.loc[row_condition, 'species'] = 'Iris-virginica'\n",
    "# convert the Iris-virginica measurements to cm\n",
    "df.loc[row_condition, 'petal_length'] *= 2.54\n",
    "display(df.sample(5))"
   ]
  },
  {
   "cell_type": "markdown",
   "metadata": {},
   "source": [
    "<a id='hypothesisTesting'></a>\n",
    "## Hypothesis Testing\n",
    "\n",
    "Now that we can load, and clean tabular data into python using pandas. Let's use what we have learned to determine if there is a significant difference in petal lengths of _Iris-setosa_ and _Iris-virginica_.\n",
    "\n",
    "To do this, we will use scipy's independent samples [T-test](https://docs.scipy.org/doc/scipy/reference/generated/scipy.stats.ttest_ind.html) available in stats module of the `scipy` library. \n",
    "\n",
    "This starts with importing the necessary portions from the scipy library and storing the `petal_length` measurements for each species using conditional selections."
   ]
  },
  {
   "cell_type": "code",
   "execution_count": 18,
   "metadata": {},
   "outputs": [],
   "source": [
    "# we're only importing the stats portions of the larger library called scipy\n",
    "# importing it like this, means we have access to scipy.stats functions using \"stats.some_function()\"\n",
    "from scipy import stats\n",
    "\n",
    "# select the data for each species, and store the selection to a variable for ease of access.\n",
    "virginica = df.loc[df['species'] == 'Iris-virginica', 'petal_length']\n",
    "setosa = df.loc[df['species'] == 'Iris-setosa', 'petal_length']"
   ]
  },
  {
   "cell_type": "markdown",
   "metadata": {},
   "source": [
    "By default, Scipy's `ttest_ind()` function assumes the measurements are normally distributed and the populations have identical variances. There are multiple options in scipy for verifying these conditions, below are a few examples with links and descriptions from the scipy documentation. \n",
    "\n",
    " - **Distribution testing**:\n",
    "     - [Normal Test](https://docs.scipy.org/doc/scipy/reference/generated/scipy.stats.normaltest.html) test whether a sample differs from a normal distribution. Based on D’Agostino and Pearson’s omnibus test of normality.\n",
    "     - [Shapiro-Wilk test](https://docs.scipy.org/doc/scipy/reference/generated/scipy.stats.shapiro.html) tests that data the data was drawn from a normal distribution.\n",
    "     - [Anderson-Darling test](https://docs.scipy.org/doc/scipy/reference/generated/scipy.stats.anderson.html#scipy.stats.anderson) tests if data are from a particular distribution.\n",
    " - **Variance testing**:\n",
    "     - [Levene test](https://docs.scipy.org/doc/scipy-0.14.0/reference/generated/scipy.stats.levene.html) tests the null hypothesis that all samples are from populations with equal variances, when there are significant deviations from normality, \n",
    "     - [Bartlett’s test](https://docs.scipy.org/doc/scipy-0.14.0/reference/generated/scipy.stats.bartlett.html#scipy.stats.bartlett) tests the null hypothesis that all samples are from populations with equal variances.\n",
    "\n",
    "***\n",
    "For this example, we'll apply the `normaltest()` for normality and `bartlett()` for equal variance. In each of these tests, the function will return a tuple structured as: ( `test_statistic`, `p-value` ).\n",
    "\n",
    "To begin, we'll use a loop to test both of our variables for deviation from a normal distribution. We'll use a conditional `if` statement to interpret the results of the test"
   ]
  },
  {
   "cell_type": "code",
   "execution_count": 19,
   "metadata": {},
   "outputs": [
    {
     "name": "stdout",
     "output_type": "stream",
     "text": [
      "Not Signifiantly different from a normal distribution.\n",
      "Not Signifiantly different from a normal distribution.\n"
     ]
    }
   ],
   "source": [
    "# set up a loop to perform the same function on both variables virginica and setosa\n",
    "for population in [virginica, setosa]:\n",
    "    # perform normaltest on the current loop iteration\n",
    "    # save the results to 2 variables at once\n",
    "    test_statistic, p_value = stats.normaltest(population)\n",
    "    # interpret the results of the test\n",
    "    if(p_value < 0.055):\n",
    "        print (\"Signifiantly different from a normal distribution.\")\n",
    "    else:\n",
    "        print( \"Not Signifiantly different from a normal distribution.\")"
   ]
  },
  {
   "cell_type": "markdown",
   "metadata": {},
   "source": [
    "Since both `virginica` and `setosa` passed the `normaltest()`, we'll perform the `bartlett()` test for equal variances. Again, we'll use a conditional `if` statement to interpret the results of the test. Scipy's [documentation](https://docs.scipy.org/doc/scipy-0.14.0/reference/generated/scipy.stats.bartlett.html) for the `barlett()` test indicates that it:\n",
    "> tests the null hypothesis that all input samples are from populations with equal variances."
   ]
  },
  {
   "cell_type": "code",
   "execution_count": 20,
   "metadata": {},
   "outputs": [
    {
     "name": "stdout",
     "output_type": "stream",
     "text": [
      "Failed to reject null hypothesis of equal variances with a p value of 1.862444641889358e-13.\n"
     ]
    }
   ],
   "source": [
    "test_statistic, p_value = stats.bartlett( virginica, setosa )\n",
    "\n",
    "if(p_value < 0.055):\n",
    "    print (f\"Failed to reject null hypothesis of equal variances with a p value of {p_value}.\")\n",
    "else:\n",
    "    print( f\"Rejected null hypothesis of equal variances with a p value of {p_value}.\")"
   ]
  },
  {
   "cell_type": "markdown",
   "metadata": {},
   "source": [
    "It is safe to conclude the `petal_length` measurements for both _Iris setosa_, and _Iris virginica_ are normally distributed, and have equal variance. Now, we will run Scipy's `ttest_ind()`. The [documentation](https://docs.scipy.org/doc/scipy/reference/generated/scipy.stats.ttest_ind.html#scipy.stats.ttest_ind) indicates that it is a:\n",
    ">two-sided test for the null hypothesis that 2 independent samples have identical average (expected) values....\n",
    "\n",
    "Furthermore, the documentation clarifies how to interpret the results:\n",
    "\n",
    ">If the p-value is smaller than the threshold, e.g. 1%, 5% or 10%, then we reject the null hypothesis of equal averages."
   ]
  },
  {
   "cell_type": "code",
   "execution_count": 21,
   "metadata": {},
   "outputs": [
    {
     "name": "stdout",
     "output_type": "stream",
     "text": [
      "1.542921361370582e-71\n",
      "Rejected null hypothesis with a p value of 1.542921361370582e-71.\n"
     ]
    }
   ],
   "source": [
    "test_statistic, p_value = stats.ttest_ind( virginica, setosa )\n",
    "print(p_value)\n",
    "if(p_value < 0.055):\n",
    "    print (f\"Rejected null hypothesis with a p value of {p_value}.\")\n",
    "else:\n",
    "    print(f\"Failed to reject null hypothesis with a p value of {p_value}.\")"
   ]
  },
  {
   "cell_type": "markdown",
   "metadata": {},
   "source": [
    "So, to answer our [initial question](#irisExample): petal length **is** an appropriate trait to differentiate _Iris-setosa_ from _Iris-virginica_.\n",
    "\n",
    "<a id='hypothesisRecap'></a>\n",
    "### Hypothesis recap\n",
    "\n",
    "We've introduced a lot of statistical methods associated with scipy. Lets review all that we did in a more concise manner:"
   ]
  },
  {
   "cell_type": "code",
   "execution_count": 22,
   "metadata": {},
   "outputs": [
    {
     "name": "stdout",
     "output_type": "stream",
     "text": [
      "T-test demonstrates a significant difference in petal lengths, with a P-value of 1.542921361370582e-71.\n"
     ]
    }
   ],
   "source": [
    "import pandas\n",
    "# load in the spreadsheet data\n",
    "df = pandas.read_csv('iris_measurements.csv')\n",
    "# only keep 2 columns\n",
    "df = df[['petal_length', 'species']]\n",
    "# align the species text values\n",
    "row_condition = df['species'].str.lower() == 'iris-virginica'\n",
    "df.loc[row_condition, 'species'] = 'Iris-virginica'\n",
    "# convert the Iris-virginica measurements to cm\n",
    "df.loc[row_condition, 'petal_length'] *= 2.54\n",
    "\n",
    "from scipy import stats\n",
    "# select the data for each species, and store the selection to a variable for ease of access.\n",
    "virginica = df.loc[df['species'] == 'Iris-virginica', 'petal_length']\n",
    "setosa = df.loc[df['species'] == 'Iris-setosa', 'petal_length']\n",
    "\n",
    "# a container to hold the boolean results of each assumption test\n",
    "assumptions = []\n",
    "# test for normal distribution. If either species fails add False to assumptions\n",
    "test_statistic, p_value = stats.normaltest(virginica)\n",
    "if(p_value < 0.055):\n",
    "    assumptions.append(False)\n",
    "test_statistic, p_value = stats.normaltest(setosa)\n",
    "if(p_value < 0.055):\n",
    "    assumptions.append(False)\n",
    "\n",
    "# test for equal variance. If it fails add False to assumptions\n",
    "test_statistic, p_value = stats.bartlett( virginica, setosa )\n",
    "if(p_value > 0.055):\n",
    "    assumptions.append(False)\n",
    "\n",
    "# if none of the assumptions failed, perform the T-test.\n",
    "if False not in assumptions:\n",
    "    test_statistic, p_value = stats.ttest_ind( virginica, setosa )\n",
    "    if(p_value < 0.055):\n",
    "        print (f\"T-test demonstrates a significant difference in petal lengths, with a P-value of {p_value}.\")\n",
    "    else:\n",
    "        print(f\"T-test show no significant difference in petal lengths, with a P-value of {p_value}.\")\n",
    "# if any of the assumptions failed print a reason to the user.\n",
    "else:\n",
    "    print('an assumption was not met, T-test not appropriate.')"
   ]
  },
  {
   "cell_type": "markdown",
   "metadata": {},
   "source": [
    "<a id='visualization'></a>\n",
    "## Visualizing the results\n",
    "\n",
    "In addition to hypothesis testing, it may be useful to visualize these results. Below are two concise examples of visualization using the seaborn library, modified from seaborn's [example gallery](https://seaborn.pydata.org/examples/index.html) "
   ]
  },
  {
   "cell_type": "code",
   "execution_count": 23,
   "metadata": {},
   "outputs": [],
   "source": [
    "import seaborn as sns\n",
    "sns.set(style=\"ticks\", palette=\"pastel\")\n",
    "\n",
    "# Draw a nested boxplot to show petal_length's by species type\n",
    "sns.boxplot(x=\"species\", y=\"petal_length\", palette=[\"m\", \"g\"],data=df)\n",
    "sns.despine(offset=10, trim=True)"
   ]
  },
  {
   "cell_type": "code",
   "execution_count": 24,
   "metadata": {},
   "outputs": [
    {
     "data": {
      "text/plain": [
       "(600, 3)"
      ]
     },
     "metadata": {},
     "output_type": "display_data"
    },
    {
     "data": {
      "text/html": [
       "<div>\n",
       "<style scoped>\n",
       "    .dataframe tbody tr th:only-of-type {\n",
       "        vertical-align: middle;\n",
       "    }\n",
       "\n",
       "    .dataframe tbody tr th {\n",
       "        vertical-align: top;\n",
       "    }\n",
       "\n",
       "    .dataframe thead th {\n",
       "        text-align: right;\n",
       "    }\n",
       "</style>\n",
       "<table border=\"1\" class=\"dataframe\">\n",
       "  <thead>\n",
       "    <tr style=\"text-align: right;\">\n",
       "      <th></th>\n",
       "      <th>species</th>\n",
       "      <th>measurement</th>\n",
       "      <th>value</th>\n",
       "    </tr>\n",
       "  </thead>\n",
       "  <tbody>\n",
       "    <tr>\n",
       "      <th>116</th>\n",
       "      <td>Iris-setosa</td>\n",
       "      <td>sepal_length</td>\n",
       "      <td>5.40000</td>\n",
       "    </tr>\n",
       "    <tr>\n",
       "      <th>417</th>\n",
       "      <td>Iris-setosa</td>\n",
       "      <td>petal_length</td>\n",
       "      <td>1.40000</td>\n",
       "    </tr>\n",
       "    <tr>\n",
       "      <th>375</th>\n",
       "      <td>Iris-virginica</td>\n",
       "      <td>petal_length</td>\n",
       "      <td>5.99948</td>\n",
       "    </tr>\n",
       "  </tbody>\n",
       "</table>\n",
       "</div>"
      ],
      "text/plain": [
       "            species   measurement    value\n",
       "116     Iris-setosa  sepal_length  5.40000\n",
       "417     Iris-setosa  petal_length  1.40000\n",
       "375  Iris-virginica  petal_length  5.99948"
      ]
     },
     "metadata": {},
     "output_type": "display_data"
    },
    {
     "data": {
      "text/plain": [
       "<matplotlib.axes._subplots.AxesSubplot at 0x7f7c9ff9a940>"
      ]
     },
     "execution_count": 24,
     "metadata": {},
     "output_type": "execute_result"
    },
    {
     "data": {
      "image/png": "[encoded data removed]",
      "text/plain": [
       "<Figure size 432x288 with 1 Axes>"
      ]
     },
     "metadata": {},
     "output_type": "display_data"
    }
   ],
   "source": [
    "sns.set(style=\"whitegrid\", palette=\"muted\")\n",
    "# load in the original data, this time keeping all the columns\n",
    "iris = pandas.read_csv('iris_measurements.csv')\n",
    "# fix the species case issues in iris-virginica\n",
    "# and convert the Iris-virginica measurements to cm\n",
    "row_condition = iris['species'].str.lower() == 'iris-virginica'\n",
    "iris.loc[row_condition, 'species'] = 'Iris-virginica'\n",
    "iris.loc[row_condition, 'petal_length'] *= 2.54\n",
    "\n",
    "# \"Melt\" the dataset to \"long-form\" or \"tidy\" representation\n",
    "iris = pandas.melt(iris, \"species\", var_name=\"measurement\")\n",
    "# spot check the results of this \"melt\" function\n",
    "display(iris.shape)\n",
    "display(iris.sample(3))\n",
    "\n",
    "# Draw a categorical scatterplot to show each observation\n",
    "sns.swarmplot(x=\"measurement\", y=\"value\", hue=\"species\",\n",
    "              palette=[\"r\", \"c\", \"y\"], data=iris)"
   ]
  },
  {
   "cell_type": "markdown",
   "metadata": {},
   "source": [
    "<a id='operators'></a>\n",
    "### Operators\n",
    "\n",
    "#### Arithmetic\n",
    "|Type|Python|\n",
    "|-----|-----|\n",
    "|Addition|+|\n",
    "|Subtraction|-|\n",
    "|Multiplication|*|\n",
    "|Division|/|\n",
    "|Floor Division|//|\n",
    "|Squared|**|\n",
    "|Modulo|%|\n",
    "\n",
    "#### Logic\n",
    "\n",
    "|Normal|Python|Alternative\n",
    "|-----|-----|-----|\n",
    "|And|and|-|\n",
    "|Or|or|-|\n",
    "|Not|not|!|\n",
    "|More than|>|-|\n",
    "|Less than|<|-|\n",
    "|Equal to|==|-|\n",
    "|Not equal to|!=|-|\n",
    "|More than or equal to|>=|-|\n",
    "|Less than or equal to|<=|-|\n",
    "\n",
    "#### Assignment\n",
    "|Type|Python|\n",
    "|-----|-----|\n",
    "|Assign|=|\n",
    "|Add to|+=|\n",
    "|Subtract to|-=|\n",
    "|Multiply to|*=|\n",
    "|Divide to|/=|\n",
    "|Floor divide to|//=|\n",
    "|Modulo to|%=|\n"
   ]
  },
  {
   "cell_type": "code",
   "execution_count": null,
   "metadata": {},
   "outputs": [],
   "source": []
  }
 ],
 "metadata": {
  "kernelspec": {
   "display_name": "Python 3",
   "language": "python",
   "name": "python3"
  },
  "language_info": {
   "codemirror_mode": {
    "name": "ipython",
    "version": 3
   },
   "file_extension": ".py",
   "mimetype": "text/x-python",
   "name": "python",
   "nbconvert_exporter": "python",
   "pygments_lexer": "ipython3",
   "version": "3.7.3"
  }
 },
 "nbformat": 4,
 "nbformat_minor": 2
}
