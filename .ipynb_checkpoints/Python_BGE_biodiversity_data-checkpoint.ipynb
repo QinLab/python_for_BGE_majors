{
 "cells": [
  {
   "cell_type": "markdown",
   "metadata": {},
   "source": [
    "<div style=\"text-align: right\">\n",
    "    \n",
    "    Caleb Powell\n",
    "    calebadampowell@gmail.com\n",
    "    https://github.com/CapPow\n",
    "    \n",
    "\n",
    "    Dakila Ledesma\n",
    "    bgq527@mocs.utc.edu\n",
    "    https://github.com/bgq527\n",
    "    \n",
    "</div>    "
   ]
  },
  {
   "cell_type": "markdown",
   "metadata": {},
   "source": [
    "## Python for Biology, Geology, and Environmental Science Majors (BGE).\n",
    "\n",
    "This notebook is intended BGE majors who are new to Python, it assumes basic knowledge of python's syntax and data types. Intermediate python users may find it useful to skip ahead to one of the concise **recaps**.\n",
    "\n",
    "### Working Biodiversity Data\n",
    "\n",
    "### Table of Contents\n",
    " - [The iDigBio Portal](#idigbio)\n",
    " - [Morel Hunting Date](#morelExample)\n",
    " - [Retrieving Data From iDigBio](#retrievingData)\n",
    "     - [Querying for specific data](#buildquery)\n",
    " - [Analyze the data using Pandas](#pandasanalysis)\n",
    "     - [Dropping Null values](#dropna)\n",
    " - [Using Python's datetime library](#datetime)\n",
    " - [Operators reference](#operators)\n",
    " \n",
    "<a id='idigbio'></a>\n",
    "### The iDigBio Portal\n",
    "\n",
    "To practice using python for retrieving and analyzing biodiversity data, we will be using data retrieved from the [Integrated Digitized Biocollections (iDigBio)](https://www.idigbio.org/portal) portal which aggregates biodiversiy data from natural history collections.\n",
    "\n",
    "<a id='morelExample'></a>\n",
    "<img src=\"files/assets/morel.jpg\">\n",
    "\n",
    "### Morel Hunting Date\n",
    " In this example, we'll use their python library to help determine the best time of year to go hunting for a popular gourmet mushroom, morels. Morels are typically wild harvested and notoriously ephemeral, meaning they are only around for brief period making timing very important. You'll need to:\n",
    "\n",
    "- Retrieve data from the iDigBio portal\n",
    "- Analyze the data using Pandas\n",
    "- Use Python's datetime library\n",
    "\n",
    "***\n",
    "\n",
    "To start with, we will need to install the [`idigbio` python client](https://github.com/iDigBio/idigbio-python-client#installation). This library makes it very easy to interact with iDigBio's web application programming interface (API). Web APIs or \"data services\" offer progrmatic access to data making the automation of data gathering much more simple. \n",
    "\n",
    "After installing the library, we will need to import the necessary librarys:"
   ]
  },
  {
   "cell_type": "code",
   "execution_count": 1,
   "metadata": {},
   "outputs": [],
   "source": [
    "import pandas as pd\n",
    "import idigbio"
   ]
  },
  {
   "cell_type": "markdown",
   "metadata": {},
   "source": [
    "<a id='retrievingData'></a>\n",
    "### Retrieving Data From iDigBio\n",
    "Much of this walkthrough was adapted using the example code provided on the [idigbio's github](https://github.com/iDigBio/idigbio-python-client#basic-usage). Since the idigbio library accesses data through iDigBio's web API, additional details on how to use it in the [web API's documentation](https://github.com/idigbio/idigbio-search-api/wiki#records).\n",
    "\n",
    "The library offers 2 options when returning the biodiversity data, either in JSON format or as a Pandas DataFrame. In this example, we'll be using the Pandas DataFrame interface. The Pandas DataFrame interface is specified following the library name:\n",
    "```{python}\n",
    "idigbio.pandas()\n",
    "```\n",
    "To avoid having to specify this each time, we'll create a variable named `api` to use as a shortcut:"
   ]
  },
  {
   "cell_type": "code",
   "execution_count": 2,
   "metadata": {},
   "outputs": [],
   "source": [
    "api = idigbio.pandas()"
   ]
  },
  {
   "cell_type": "markdown",
   "metadata": {},
   "source": [
    "### Querying for specific data\n",
    "[idigbio's documentation](https://github.com/iDigBio/idigbio-python-client#examples) shows us that the `.search_records()` function imported from idigbio.pandas() expects a dictionary structured where keys are the field parameters and values are the specific values we would like to query on. This means our `search_records()` call should look something like:\n",
    "```{python}\n",
    "my_query = {field_1 : value_1, \n",
    "            field_2 : value_2,\n",
    "            field_3 : value_3}\n",
    "\n",
    "api.search_records(my_query)\n",
    "```\n",
    "A list of available fields for record queries is [available here](https://github.com/idigbio/idigbio-search-api/wiki/Index-Fields#record-query-fields).\n",
    "\n",
    "iDigBio aggregates data from millions of natural history records. Since we are interested in the best date to find [morels](#morelExample) in Tennessee, we'll need to define a query which specifies a taxon and a region. \n",
    "\n",
    "In this case, \"True Morels\" fall under the genus _Morchella_, and since I'm at the University of Tennessee at Chattanooga, we will define our region as the state of \"Tennessee\". Using the record [query fields](https://github.com/idigbio/idigbio-search-api/wiki/Index-Fields#record-query-fields) documentation we can see that `genus` and `stateprovince` are options which seem to fit our parameters.\n",
    "\n",
    "Using this information our `search_records()` should look similar to this:\n",
    "\n",
    "```{python}\n",
    "my_query = {'genus' : 'Morchella',\n",
    "            'stateprovince' : 'Tennessee'}\n",
    "\n",
    "api.search_records(my_query)\n",
    "```\n",
    "<a id='buildquery'></a>\n",
    "However, if we use variable names in place of the values this code will be easy to modify and reuse later. Run the cell below to make the query."
   ]
  },
  {
   "cell_type": "code",
   "execution_count": 3,
   "metadata": {},
   "outputs": [
    {
     "data": {
      "text/html": [
       "<div>\n",
       "<style scoped>\n",
       "    .dataframe tbody tr th:only-of-type {\n",
       "        vertical-align: middle;\n",
       "    }\n",
       "\n",
       "    .dataframe tbody tr th {\n",
       "        vertical-align: top;\n",
       "    }\n",
       "\n",
       "    .dataframe thead th {\n",
       "        text-align: right;\n",
       "    }\n",
       "</style>\n",
       "<table border=\"1\" class=\"dataframe\">\n",
       "  <thead>\n",
       "    <tr style=\"text-align: right;\">\n",
       "      <th></th>\n",
       "      <th>basisofrecord</th>\n",
       "      <th>canonicalname</th>\n",
       "      <th>catalognumber</th>\n",
       "      <th>class</th>\n",
       "      <th>collectioncode</th>\n",
       "      <th>collectionid</th>\n",
       "      <th>collector</th>\n",
       "      <th>continent</th>\n",
       "      <th>coordinateuncertainty</th>\n",
       "      <th>country</th>\n",
       "      <th>...</th>\n",
       "      <th>recordset</th>\n",
       "      <th>scientificname</th>\n",
       "      <th>specificepithet</th>\n",
       "      <th>startdayofyear</th>\n",
       "      <th>stateprovince</th>\n",
       "      <th>taxonid</th>\n",
       "      <th>taxonomicstatus</th>\n",
       "      <th>taxonrank</th>\n",
       "      <th>typestatus</th>\n",
       "      <th>verbatimeventdate</th>\n",
       "    </tr>\n",
       "    <tr>\n",
       "      <th>uuid</th>\n",
       "      <th></th>\n",
       "      <th></th>\n",
       "      <th></th>\n",
       "      <th></th>\n",
       "      <th></th>\n",
       "      <th></th>\n",
       "      <th></th>\n",
       "      <th></th>\n",
       "      <th></th>\n",
       "      <th></th>\n",
       "      <th></th>\n",
       "      <th></th>\n",
       "      <th></th>\n",
       "      <th></th>\n",
       "      <th></th>\n",
       "      <th></th>\n",
       "      <th></th>\n",
       "      <th></th>\n",
       "      <th></th>\n",
       "      <th></th>\n",
       "      <th></th>\n",
       "    </tr>\n",
       "  </thead>\n",
       "  <tbody>\n",
       "    <tr>\n",
       "      <th>3652eedc-88da-4909-a230-b69371f2f0b2</th>\n",
       "      <td>preservedspecimen</td>\n",
       "      <td>morchella esculenta</td>\n",
       "      <td>tenn-f-007245</td>\n",
       "      <td>pezizomycetes</td>\n",
       "      <td>tenn-f</td>\n",
       "      <td>97e2d271-3744-48a3-92b5-5a86afbfb01d</td>\n",
       "      <td>h.m. jennison</td>\n",
       "      <td>north america</td>\n",
       "      <td>NaN</td>\n",
       "      <td>united states</td>\n",
       "      <td>...</td>\n",
       "      <td>04d9b721-259c-4d6b-b48f-2e23edf66c9f</td>\n",
       "      <td>morchella esculenta</td>\n",
       "      <td>esculenta</td>\n",
       "      <td>77.0</td>\n",
       "      <td>tennessee</td>\n",
       "      <td>8574619</td>\n",
       "      <td>accepted</td>\n",
       "      <td>species</td>\n",
       "      <td>NaN</td>\n",
       "      <td>NaN</td>\n",
       "    </tr>\n",
       "    <tr>\n",
       "      <th>64e32ded-fd76-477c-beae-ae29e74503bb</th>\n",
       "      <td>preservedspecimen</td>\n",
       "      <td>morchella</td>\n",
       "      <td>tenn-f-030541</td>\n",
       "      <td>pezizomycetes</td>\n",
       "      <td>tenn-f</td>\n",
       "      <td>97e2d271-3744-48a3-92b5-5a86afbfb01d</td>\n",
       "      <td>margaret boarts</td>\n",
       "      <td>north america</td>\n",
       "      <td>NaN</td>\n",
       "      <td>united states</td>\n",
       "      <td>...</td>\n",
       "      <td>04d9b721-259c-4d6b-b48f-2e23edf66c9f</td>\n",
       "      <td>morchella</td>\n",
       "      <td>NaN</td>\n",
       "      <td>77.0</td>\n",
       "      <td>tennessee</td>\n",
       "      <td>2594601</td>\n",
       "      <td>doubtful</td>\n",
       "      <td>genus</td>\n",
       "      <td>NaN</td>\n",
       "      <td>NaN</td>\n",
       "    </tr>\n",
       "  </tbody>\n",
       "</table>\n",
       "<p>2 rows × 47 columns</p>\n",
       "</div>"
      ],
      "text/plain": [
       "                                          basisofrecord        canonicalname  \\\n",
       "uuid                                                                           \n",
       "3652eedc-88da-4909-a230-b69371f2f0b2  preservedspecimen  morchella esculenta   \n",
       "64e32ded-fd76-477c-beae-ae29e74503bb  preservedspecimen            morchella   \n",
       "\n",
       "                                      catalognumber          class  \\\n",
       "uuid                                                                 \n",
       "3652eedc-88da-4909-a230-b69371f2f0b2  tenn-f-007245  pezizomycetes   \n",
       "64e32ded-fd76-477c-beae-ae29e74503bb  tenn-f-030541  pezizomycetes   \n",
       "\n",
       "                                     collectioncode  \\\n",
       "uuid                                                  \n",
       "3652eedc-88da-4909-a230-b69371f2f0b2         tenn-f   \n",
       "64e32ded-fd76-477c-beae-ae29e74503bb         tenn-f   \n",
       "\n",
       "                                                              collectionid  \\\n",
       "uuid                                                                         \n",
       "3652eedc-88da-4909-a230-b69371f2f0b2  97e2d271-3744-48a3-92b5-5a86afbfb01d   \n",
       "64e32ded-fd76-477c-beae-ae29e74503bb  97e2d271-3744-48a3-92b5-5a86afbfb01d   \n",
       "\n",
       "                                            collector      continent  \\\n",
       "uuid                                                                   \n",
       "3652eedc-88da-4909-a230-b69371f2f0b2    h.m. jennison  north america   \n",
       "64e32ded-fd76-477c-beae-ae29e74503bb  margaret boarts  north america   \n",
       "\n",
       "                                      coordinateuncertainty        country  \\\n",
       "uuid                                                                         \n",
       "3652eedc-88da-4909-a230-b69371f2f0b2                    NaN  united states   \n",
       "64e32ded-fd76-477c-beae-ae29e74503bb                    NaN  united states   \n",
       "\n",
       "                                      ...  \\\n",
       "uuid                                  ...   \n",
       "3652eedc-88da-4909-a230-b69371f2f0b2  ...   \n",
       "64e32ded-fd76-477c-beae-ae29e74503bb  ...   \n",
       "\n",
       "                                                                 recordset  \\\n",
       "uuid                                                                         \n",
       "3652eedc-88da-4909-a230-b69371f2f0b2  04d9b721-259c-4d6b-b48f-2e23edf66c9f   \n",
       "64e32ded-fd76-477c-beae-ae29e74503bb  04d9b721-259c-4d6b-b48f-2e23edf66c9f   \n",
       "\n",
       "                                           scientificname specificepithet  \\\n",
       "uuid                                                                        \n",
       "3652eedc-88da-4909-a230-b69371f2f0b2  morchella esculenta       esculenta   \n",
       "64e32ded-fd76-477c-beae-ae29e74503bb            morchella             NaN   \n",
       "\n",
       "                                     startdayofyear stateprovince  taxonid  \\\n",
       "uuid                                                                         \n",
       "3652eedc-88da-4909-a230-b69371f2f0b2           77.0     tennessee  8574619   \n",
       "64e32ded-fd76-477c-beae-ae29e74503bb           77.0     tennessee  2594601   \n",
       "\n",
       "                                     taxonomicstatus taxonrank typestatus  \\\n",
       "uuid                                                                        \n",
       "3652eedc-88da-4909-a230-b69371f2f0b2        accepted   species        NaN   \n",
       "64e32ded-fd76-477c-beae-ae29e74503bb        doubtful     genus        NaN   \n",
       "\n",
       "                                     verbatimeventdate  \n",
       "uuid                                                    \n",
       "3652eedc-88da-4909-a230-b69371f2f0b2               NaN  \n",
       "64e32ded-fd76-477c-beae-ae29e74503bb               NaN  \n",
       "\n",
       "[2 rows x 47 columns]"
      ]
     },
     "metadata": {},
     "output_type": "display_data"
    },
    {
     "data": {
      "text/plain": [
       "Index(['basisofrecord', 'canonicalname', 'catalognumber', 'class',\n",
       "       'collectioncode', 'collectionid', 'collector', 'continent',\n",
       "       'coordinateuncertainty', 'country', 'countrycode', 'county',\n",
       "       'datasetid', 'datecollected', 'datemodified', 'dqs', 'etag',\n",
       "       'eventdate', 'family', 'flags', 'genus', 'geopoint', 'hasImage',\n",
       "       'hasMedia', 'highertaxon', 'indexData', 'institutioncode',\n",
       "       'institutionid', 'kingdom', 'locality', 'mediarecords', 'municipality',\n",
       "       'occurrenceid', 'order', 'phylum', 'recordids', 'recordnumber',\n",
       "       'recordset', 'scientificname', 'specificepithet', 'startdayofyear',\n",
       "       'stateprovince', 'taxonid', 'taxonomicstatus', 'taxonrank',\n",
       "       'typestatus', 'verbatimeventdate'],\n",
       "      dtype='object')"
      ]
     },
     "metadata": {},
     "output_type": "display_data"
    },
    {
     "data": {
      "text/plain": [
       "(100, 47)"
      ]
     },
     "metadata": {},
     "output_type": "display_data"
    }
   ],
   "source": [
    "# set a variable for the genus we want to query\n",
    "genusOfInterest = 'Morchella'\n",
    "\n",
    "# set a variable for the state we're interested in\n",
    "statesOfInterest = ['Tennessee', 'Kentucky', 'Virginia','North Carolina',\n",
    "                    'South Carolina','Georgia','Alabama', 'Mississippi', 'Arkansas']\n",
    "\n",
    "# define a dictionary with the query's \"key word arguments\"\n",
    "my_query = {'genus':genusOfInterest,\n",
    "            \"stateprovince\":statesOfInterest}\n",
    "\n",
    "# call iDigbio's api, using the query we built. The result is a dataframe.\n",
    "df = api.search_records(rq=my_query)\n",
    "\n",
    "# spotcheck what was returned\n",
    "# notice we are using the \"display()\" function, which is specific to jupyter notebooks\n",
    "# This can be replaced with the \"print()\" in other interpreters.\n",
    "display(df.sample(2))\n",
    "# examine the the columns available\n",
    "display(df.columns)\n",
    "# examine the total quantity of results\n",
    "display(df.shape)"
   ]
  },
  {
   "cell_type": "markdown",
   "metadata": {},
   "source": [
    "### Analyze the data using Pandas\n",
    "<a id='pandasanalysis'></a>\n",
    "\n",
    "As we expected, our data was returned as a Pandas [\"DataFrame\"](https://pandas.pydata.org/pandas-docs/stable/reference/api/pandas.DataFrame.html), we can now utalize any of the Pandas methods to analyze it. One oddity in this DataFrame is it does not have a pandas generated index but is instead indexed using \"uuid\" a type of [universal identifier](https://dwc.tdwg.org/rdf/#132-internationalized-resource-identifier-iri-non-normative).\n",
    "\n",
    "The `df.shape` of the result is exactly 100, this seems like a suspiciously round number. The [web API's documentation](https://github.com/idigbio/idigbio-search-api/wiki#records) tells us there is an optional `limit` parameter. When an optional parameter is left blank it is given a default value. Let's test using a higher limit value to see if we get additional results. Since we have already defined `my_query` we can simply call the `api.search_records()` again, with the optional parameter this time:"
   ]
  },
  {
   "cell_type": "code",
   "execution_count": 4,
   "metadata": {},
   "outputs": [
    {
     "data": {
      "text/plain": [
       "(174, 47)"
      ]
     },
     "metadata": {},
     "output_type": "display_data"
    }
   ],
   "source": [
    "df = api.search_records(rq=my_query, limit = 1000)\n",
    "\n",
    "# display the shape of the results\n",
    "display(df.shape)"
   ]
  },
  {
   "cell_type": "markdown",
   "metadata": {},
   "source": [
    "That increased the quantity of resulting records!\n",
    "\n",
    "***\n",
    "The columns in the resulting DataFrame are organized under a biodiversity data standard  called [The Darwin Core](https://dwc.tdwg.org/). Being standardized makes it easy to understand (and look up) what we expect to find in each column. For example:\n",
    "- ['eventdate'](https://terms.tdwg.org/wiki/dwc:eventDate) column stores the date the specimen was collected\n",
    "\n",
    "- ['startdayofyear'](https://terms.tdwg.org/wiki/dwc:startDayOfYear) column is the day of the year (e.g., 1 is January 1st).\n",
    "\n",
    "We can use this data to determine the most frequent day of the year Morel's are found in our region of interest region. Since we're interested in the date of collection, we should take a look at the data in the `eventdate` column. "
   ]
  },
  {
   "cell_type": "code",
   "execution_count": 5,
   "metadata": {},
   "outputs": [
    {
     "data": {
      "text/plain": [
       "uuid\n",
       "743f7634-e87c-43b4-9f96-3c4a726ba012    NaN\n",
       "9ef764ac-800c-479e-b106-e9e1b4fb74c2    NaN\n",
       "20005957-6e79-4684-918d-2742663c6d87    NaN\n",
       "Name: eventdate, dtype: object"
      ]
     },
     "metadata": {},
     "output_type": "display_data"
    }
   ],
   "source": [
    "display(df['eventdate'].tail(3))"
   ]
  },
  {
   "cell_type": "markdown",
   "metadata": {},
   "source": [
    "### Dropping Null values\n",
    "<a id='dropna'></a>\n",
    "The result `NaN` is short for \"Not a Number\" which is Pandas telling us it is an empty field. It if lacks data for the date of collection, it will not be useful in our analysis. We can use Pandas' [`.dropna()` function](https://pandas.pydata.org/pandas-docs/stable/reference/api/pandas.DataFrame.dropna.html) with the optional `subset` parameter to clear those away:"
   ]
  },
  {
   "cell_type": "code",
   "execution_count": 6,
   "metadata": {
    "scrolled": false
   },
   "outputs": [
    {
     "data": {
      "text/plain": [
       "uuid\n",
       "42cf631e-ad7a-415d-86d4-f4a8786c0252    [redacted]\n",
       "fc42b6ca-e476-4f1f-b88d-fac0e0d2e97e    [redacted]\n",
       "Name: eventdate, dtype: object"
      ]
     },
     "metadata": {},
     "output_type": "display_data"
    },
    {
     "data": {
      "text/plain": [
       "(64, 47)"
      ]
     },
     "metadata": {},
     "output_type": "display_data"
    }
   ],
   "source": [
    "# drop those rows with empty 'eventdate' and overwrite df with the results.\n",
    "df = df.dropna(subset=['eventdate'])\n",
    "\n",
    "# Spot check 'evetndate' for a few rows and display the resulting shape.\n",
    "display(df['eventdate'].tail(2))\n",
    "display(df.shape)"
   ]
  },
  {
   "cell_type": "markdown",
   "metadata": {},
   "source": [
    "It looks like that dropped a number of rows, yet some of the remaining values in `eventdate` are not dates but text strings informing us the date data was 'redacted.' Morels hunting is a popular hobby in some regions so it is reasonable that some mycologists have chosen to protect the data surrounding this genus.\n",
    "\n",
    "***\n",
    "To handle those columns which are not dates, we will use Pandas' [`to_datetime()` function](https://pandas.pydata.org/pandas-docs/stable/reference/api/pandas.to_datetime.html) which can attempts to convert a value, or array of values (such as a series) into a date object. Using the optional `errors` parameter, we can tell Pandas how to handle non-convertable data such as those 'redacted' strings. The \"coerce\" option for the `errors` parameter makes those non-convertable values `NaT` or null values. Let's combine this with what [we learned](#dropna) about `drop_na()` to further clean this data."
   ]
  },
  {
   "cell_type": "code",
   "execution_count": 7,
   "metadata": {},
   "outputs": [
    {
     "data": {
      "text/plain": [
       "(10, 47)"
      ]
     },
     "metadata": {},
     "output_type": "display_data"
    }
   ],
   "source": [
    "# \"Cast\" the entire eventdate column into a date object.\n",
    "# Those which cannot be converted will become \"Nat\"\n",
    "df['eventdate'] = pd.to_datetime(df['eventdate'], errors='coerce')\n",
    "\n",
    "# Drop the resulting \"Nat\" objects.\n",
    "df = df.dropna(subset=['eventdate'])\n",
    "display(df.shape)"
   ]
  },
  {
   "cell_type": "markdown",
   "metadata": {},
   "source": [
    "There are not many rows left, it may be more informative to return to the previous cells and add additional states from similar latitudes to the query to increase results. Return to the [initial query](#buildquery), add additional states to `statesOfInterest`, then rerun the following cells to attempt to gather a more robust dataset.\n",
    "\n",
    "***\n",
    "<a id='datetime'></a>\n",
    "\n",
    "## Using Python's datetime library\n",
    "\n",
    "Once the dataset is gathered and has been restricted to only those with known dates of collection, we can determine the average date of collection. To begin, we will determine an average date for each record in our dataset. Because of leap years, specific dates do not always land on the same day of the year. Luckily, our data contains the column: ['startdayofyear'](https://terms.tdwg.org/wiki/dwc:startDayOfYear) which gives us the:\n",
    "> \"ordinal day of the year on which the Event occurred\"\n",
    "\n",
    "To begin, we will use pandas `.mean()` function to determine an average `startdayofyear`."
   ]
  },
  {
   "cell_type": "code",
   "execution_count": 8,
   "metadata": {},
   "outputs": [
    {
     "data": {
      "text/plain": [
       "100.0"
      ]
     },
     "metadata": {},
     "output_type": "display_data"
    }
   ],
   "source": [
    "# notice we included the optional parameter \"skipna=True,\"\n",
    "avgDayOfYear = df['startdayofyear'].mean(skipna=True)\n",
    "display(avgDayOfYear)\n"
   ]
  },
  {
   "cell_type": "markdown",
   "metadata": {},
   "source": [
    "The avgDayOfYear is interesting but how do we make this information more useable? Let's convert this value to a date on this year's calendar by adding `avgDayOfYear` to January 1st of this year.\n",
    "\n",
    "First we'll import the datetime library, then will use the its`.now()` function to get the current date:"
   ]
  },
  {
   "cell_type": "code",
   "execution_count": 9,
   "metadata": {},
   "outputs": [],
   "source": [
    "import datetime\n",
    "# notice there is a class called datetime within the library called datetime\n",
    "# this is why the command looks so redundant.\n",
    "currentDate = datetime.datetime.now()"
   ]
  },
  {
   "cell_type": "markdown",
   "metadata": {},
   "source": [
    "The result: `currentDate` is a [datetime object](https://docs.python.org/3/library/datetime.html#datetime-objects) which is a datatype. `currentDate` has attributes for each portion of the date, for example:\n",
    "***\n",
    "To display the current month, as an integer:\n",
    "```{python}\n",
    "display(currentDate.month)\n",
    "```\n",
    "***\n",
    "To display the current year, as an integer:\n",
    "```{python}\n",
    "display(currentDate.year)\n",
    "```\n",
    "Using the current year, we will build a new datetime object to represent January 1st of this year. "
   ]
  },
  {
   "cell_type": "code",
   "execution_count": 10,
   "metadata": {},
   "outputs": [],
   "source": [
    "thisYear = currentDate.year\n",
    "startOfYear = datetime.datetime(thisYear,1,1)"
   ]
  },
  {
   "cell_type": "markdown",
   "metadata": {},
   "source": [
    "Now, to get the best date for morel hunting in this calendar year, we will add the `avgDayOfYear` to the `startOfYear`. To do this, we will use datetime's `timedelta()` function which returns the difference between two datetime values (as a date)."
   ]
  },
  {
   "cell_type": "code",
   "execution_count": 11,
   "metadata": {},
   "outputs": [
    {
     "data": {
      "text/plain": [
       "'The average day for collecting morels is 2019-04-11 00:00:00.'"
      ]
     },
     "metadata": {},
     "output_type": "display_data"
    }
   ],
   "source": [
    "bestDate = startOfYear + datetime.timedelta(avgDayOfYear)\n",
    "\n",
    "# display the results\n",
    "display(f'The average day for collecting morels is {bestDate}.')"
   ]
  },
  {
   "cell_type": "markdown",
   "metadata": {},
   "source": [
    "<a id='operators'></a>\n",
    "### Operators references\n",
    "\n",
    "#### Arithmetic\n",
    "|Type|Python|\n",
    "|-----|-----|\n",
    "|Addition|+|\n",
    "|Subtraction|-|\n",
    "|Multiplication|*|\n",
    "|Division|/|\n",
    "|Floor Division|//|\n",
    "|Squared|**|\n",
    "|Modulo|%|\n",
    "\n",
    "#### Logic\n",
    "\n",
    "|Normal|Python|Alternative\n",
    "|-----|-----|-----|\n",
    "|And|and|-|\n",
    "|Or|or|-|\n",
    "|Not|not|!|\n",
    "|More than|>|-|\n",
    "|Less than|<|-|\n",
    "|Equal to|==|-|\n",
    "|Not equal to|!=|-|\n",
    "|More than or equal to|>=|-|\n",
    "|Less than or equal to|<=|-|\n",
    "\n",
    "#### Assignment\n",
    "|Type|Python|\n",
    "|-----|-----|\n",
    "|Assign|=|\n",
    "|Add to|+=|\n",
    "|Subtract to|-=|\n",
    "|Multiply to|*=|\n",
    "|Divide to|/=|\n",
    "|Floor divide to|//=|\n",
    "|Modulo to|%=|\n"
   ]
  }
 ],
 "metadata": {
  "kernelspec": {
   "display_name": "Python 3",
   "language": "python",
   "name": "python3"
  },
  "language_info": {
   "codemirror_mode": {
    "name": "ipython",
    "version": 3
   },
   "file_extension": ".py",
   "mimetype": "text/x-python",
   "name": "python",
   "nbconvert_exporter": "python",
   "pygments_lexer": "ipython3",
   "version": "3.7.3"
  }
 },
 "nbformat": 4,
 "nbformat_minor": 2
}
