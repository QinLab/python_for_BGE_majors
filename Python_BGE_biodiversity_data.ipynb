{
 "cells": [
  {
   "cell_type": "markdown",
   "metadata": {},
   "source": [
    "<div style=\"text-align: right\">\n",
    "    \n",
    "    Caleb Powell\n",
    "    calebadampowell@gmail.com\n",
    "    https://github.com/CapPow\n",
    "    \n",
    "\n",
    "    Dakila Ledesma\n",
    "    bgq527@mocs.utc.edu\n",
    "    https://github.com/bgq527\n",
    "    \n",
    "</div>    "
   ]
  },
  {
   "cell_type": "markdown",
   "metadata": {},
   "source": [
    "## Python for Biology, Geology, and Environmental Science Majors (BGE).\n",
    "\n",
    "This notebook is intended BGE majors who are new to Python, it assumes basic knowledge of python's syntax and data types. Intermediate python users may find it useful to skip ahead to one of the concise **recaps**.\n",
    "\n",
    "### Working Biodiversity Data\n",
    "\n",
    "### Table of Contents\n",
    " - [Pandas for working with tabular data](#pandasIntro)\n",
    "     - [Pandas' Data Structures](#dataStructures)\n",
    "     - [Selecting Subsets](#columnSelection)\n",
    "     - [Pandas recap](#pandasRecap)\n",
    " - [Hypothesis Testing](#hypothesisTesting)\n",
    "     - [Hypothesis recap](#hypothesisRecap)\n",
    " - [Visualizing the results](#visualization)\n",
    " - [Operators reference](#operators)\n",
    " \n",
    "\n",
    "### The iDigBio Portal\n",
    "\n",
    "To practice using python for retrieving and analyzing biodiversity data, we will be using data retrieved from the [Integrated Digitized Biocollections (iDigBio)](https://www.idigbio.org/portal) portal which aggregates biodiversiy data from natural history collections.\n",
    "\n",
    "<a id='morelExample'></a>\n",
    "<img src=\"files/assets/morel.jpg\">\n",
    "\n",
    "### Morel Hunting Date\n",
    " In this example, we'll use their python library to help determine the best time of year to go hunting for a popular gourmet mushroom, morels. Morels are typically wild harvested and notoriously ephemeral, meaning they are only around for brief period making timing very important. You'll need to:\n",
    "\n",
    "- Retrieve data from the iDigBio portal\n",
    "- Analyze the data using Pandas\n",
    "- Use Python's datetime library\n",
    "\n",
    "***\n",
    "\n",
    "To start with, we will need to install the [`idigbio` python client](https://github.com/iDigBio/idigbio-python-client#installation). This library makes it very easy to interact with iDigBio's web application programming interface (API). Web APIs or \"data services\" offer progrmatic access to data making the automation of data gathering much more simple. \n",
    "\n",
    "After installing the library, we will need to import the necessary librarys:"
   ]
  },
  {
   "cell_type": "code",
   "execution_count": 6,
   "metadata": {},
   "outputs": [],
   "source": [
    "import pandas as pd\n",
    "import idigbio"
   ]
  },
  {
   "cell_type": "markdown",
   "metadata": {},
   "source": [
    "<a id='retrievingData'></a>\n",
    "### Retrieving Data From iDigBio\n",
    "Much of this walkthrough was adapted using the example code provided on the [idigbio's github](https://github.com/iDigBio/idigbio-python-client#basic-usage). Since the idigbio library accesses data through iDigBio's web API, additional details on how to use it in the [web API's documentation](https://github.com/idigbio/idigbio-search-api/wiki#records).\n",
    "\n",
    "The library offers 2 options when returning the biodiversity data, either in JSON format or as a Pandas DataFrame. In this example, we'll be using the Pandas DataFrame interface. The Pandas DataFrame interface is specified following the library name:\n",
    "```{python}\n",
    "idigbio.pandas()\n",
    "```\n",
    "To avoid having to specify this each time, we'll create a variable named `api` to use as a shortcut:"
   ]
  },
  {
   "cell_type": "code",
   "execution_count": 5,
   "metadata": {},
   "outputs": [],
   "source": [
    "api = idigbio.pandas()"
   ]
  },
  {
   "cell_type": "markdown",
   "metadata": {},
   "source": [
    "### Querying for specific data\n",
    "[idigbio's documentation](https://github.com/iDigBio/idigbio-python-client#examples) shows us that the `.search_records()` function imported from idigbio.pandas() expects a dictionary structured where keys are the field parameters and values are the specific values we would like to query on. This means our `search_records()` call should look something like:\n",
    "```{python}\n",
    "my_query = {field_1 : value_1, \n",
    "            field_2 : value_2,\n",
    "            field_3 : value_3}\n",
    "\n",
    "api.search_records(my_query)\n",
    "```\n",
    "A list of available fields for record queries is [available here](https://github.com/idigbio/idigbio-search-api/wiki/Index-Fields#record-query-fields).\n",
    "\n",
    "iDigBio aggregates data from millions of natural history records. Since we are interested in the best date to find [morels](#morelExample) in Tennessee, we'll need to define a query which specifies a taxon and a region. \n",
    "\n",
    "In this case, \"True Morels\" fall under the genus _Morchella_, and since I'm at the University of Tennessee at Chattanooga, we will define our region as the state of \"Tennessee\". Using the record [query fields](https://github.com/idigbio/idigbio-search-api/wiki/Index-Fields#record-query-fields) documentation we can see that `genus` and `stateprovince` are options which seem to fit our parameters.\n",
    "\n",
    "Using this information our `search_records()` should look similar to this:\n",
    "\n",
    "```{python}\n",
    "my_query = {'genus' : 'Morchella',\n",
    "            'stateprovince' : 'Tennessee'}\n",
    "\n",
    "api.search_records(my_query)\n",
    "```\n",
    "\n",
    "However, if we use variable names in place of the values this code will be easy to modify and reuse later. Run the cell below to make the query."
   ]
  },
  {
   "cell_type": "code",
   "execution_count": 15,
   "metadata": {},
   "outputs": [
    {
     "data": {
      "text/html": [
       "<div>\n",
       "<style scoped>\n",
       "    .dataframe tbody tr th:only-of-type {\n",
       "        vertical-align: middle;\n",
       "    }\n",
       "\n",
       "    .dataframe tbody tr th {\n",
       "        vertical-align: top;\n",
       "    }\n",
       "\n",
       "    .dataframe thead th {\n",
       "        text-align: right;\n",
       "    }\n",
       "</style>\n",
       "<table border=\"1\" class=\"dataframe\">\n",
       "  <thead>\n",
       "    <tr style=\"text-align: right;\">\n",
       "      <th></th>\n",
       "      <th>basisofrecord</th>\n",
       "      <th>canonicalname</th>\n",
       "      <th>catalognumber</th>\n",
       "      <th>class</th>\n",
       "      <th>collectioncode</th>\n",
       "      <th>collectionid</th>\n",
       "      <th>collector</th>\n",
       "      <th>continent</th>\n",
       "      <th>coordinateuncertainty</th>\n",
       "      <th>country</th>\n",
       "      <th>...</th>\n",
       "      <th>recordnumber</th>\n",
       "      <th>recordset</th>\n",
       "      <th>scientificname</th>\n",
       "      <th>specificepithet</th>\n",
       "      <th>startdayofyear</th>\n",
       "      <th>stateprovince</th>\n",
       "      <th>taxonid</th>\n",
       "      <th>taxonomicstatus</th>\n",
       "      <th>taxonrank</th>\n",
       "      <th>verbatimeventdate</th>\n",
       "    </tr>\n",
       "    <tr>\n",
       "      <th>uuid</th>\n",
       "      <th></th>\n",
       "      <th></th>\n",
       "      <th></th>\n",
       "      <th></th>\n",
       "      <th></th>\n",
       "      <th></th>\n",
       "      <th></th>\n",
       "      <th></th>\n",
       "      <th></th>\n",
       "      <th></th>\n",
       "      <th></th>\n",
       "      <th></th>\n",
       "      <th></th>\n",
       "      <th></th>\n",
       "      <th></th>\n",
       "      <th></th>\n",
       "      <th></th>\n",
       "      <th></th>\n",
       "      <th></th>\n",
       "      <th></th>\n",
       "      <th></th>\n",
       "    </tr>\n",
       "  </thead>\n",
       "  <tbody>\n",
       "    <tr>\n",
       "      <th>70abd314-2ba7-4b72-8286-5bfbce01d0c5</th>\n",
       "      <td>preservedspecimen</td>\n",
       "      <td>morchella crassipes</td>\n",
       "      <td>tenn-f-004143</td>\n",
       "      <td>pezizomycetes</td>\n",
       "      <td>tenn-f</td>\n",
       "      <td>97e2d271-3744-48a3-92b5-5a86afbfb01d</td>\n",
       "      <td>l.r. hesler</td>\n",
       "      <td>north america</td>\n",
       "      <td>NaN</td>\n",
       "      <td>united states</td>\n",
       "      <td>...</td>\n",
       "      <td>NaN</td>\n",
       "      <td>04d9b721-259c-4d6b-b48f-2e23edf66c9f</td>\n",
       "      <td>morchella crassipes</td>\n",
       "      <td>crassipes</td>\n",
       "      <td>77.0</td>\n",
       "      <td>tennessee</td>\n",
       "      <td>2594612</td>\n",
       "      <td>accepted</td>\n",
       "      <td>species</td>\n",
       "      <td>NaN</td>\n",
       "    </tr>\n",
       "    <tr>\n",
       "      <th>8e38017d-129d-4014-b047-5f09a071d22a</th>\n",
       "      <td>preservedspecimen</td>\n",
       "      <td>morchella conica</td>\n",
       "      <td>tenn-f-003806</td>\n",
       "      <td>pezizomycetes</td>\n",
       "      <td>tenn-f</td>\n",
       "      <td>97e2d271-3744-48a3-92b5-5a86afbfb01d</td>\n",
       "      <td>s.l. wallace, l.r. hesler</td>\n",
       "      <td>north america</td>\n",
       "      <td>NaN</td>\n",
       "      <td>united states</td>\n",
       "      <td>...</td>\n",
       "      <td>NaN</td>\n",
       "      <td>04d9b721-259c-4d6b-b48f-2e23edf66c9f</td>\n",
       "      <td>morchella conica</td>\n",
       "      <td>conica</td>\n",
       "      <td>77.0</td>\n",
       "      <td>tennessee</td>\n",
       "      <td>9014337</td>\n",
       "      <td>accepted</td>\n",
       "      <td>species</td>\n",
       "      <td>NaN</td>\n",
       "    </tr>\n",
       "  </tbody>\n",
       "</table>\n",
       "<p>2 rows × 44 columns</p>\n",
       "</div>"
      ],
      "text/plain": [
       "                                          basisofrecord        canonicalname  \\\n",
       "uuid                                                                           \n",
       "70abd314-2ba7-4b72-8286-5bfbce01d0c5  preservedspecimen  morchella crassipes   \n",
       "8e38017d-129d-4014-b047-5f09a071d22a  preservedspecimen     morchella conica   \n",
       "\n",
       "                                      catalognumber          class  \\\n",
       "uuid                                                                 \n",
       "70abd314-2ba7-4b72-8286-5bfbce01d0c5  tenn-f-004143  pezizomycetes   \n",
       "8e38017d-129d-4014-b047-5f09a071d22a  tenn-f-003806  pezizomycetes   \n",
       "\n",
       "                                     collectioncode  \\\n",
       "uuid                                                  \n",
       "70abd314-2ba7-4b72-8286-5bfbce01d0c5         tenn-f   \n",
       "8e38017d-129d-4014-b047-5f09a071d22a         tenn-f   \n",
       "\n",
       "                                                              collectionid  \\\n",
       "uuid                                                                         \n",
       "70abd314-2ba7-4b72-8286-5bfbce01d0c5  97e2d271-3744-48a3-92b5-5a86afbfb01d   \n",
       "8e38017d-129d-4014-b047-5f09a071d22a  97e2d271-3744-48a3-92b5-5a86afbfb01d   \n",
       "\n",
       "                                                      collector  \\\n",
       "uuid                                                              \n",
       "70abd314-2ba7-4b72-8286-5bfbce01d0c5                l.r. hesler   \n",
       "8e38017d-129d-4014-b047-5f09a071d22a  s.l. wallace, l.r. hesler   \n",
       "\n",
       "                                          continent  coordinateuncertainty  \\\n",
       "uuid                                                                         \n",
       "70abd314-2ba7-4b72-8286-5bfbce01d0c5  north america                    NaN   \n",
       "8e38017d-129d-4014-b047-5f09a071d22a  north america                    NaN   \n",
       "\n",
       "                                            country  ... recordnumber  \\\n",
       "uuid                                                 ...                \n",
       "70abd314-2ba7-4b72-8286-5bfbce01d0c5  united states  ...          NaN   \n",
       "8e38017d-129d-4014-b047-5f09a071d22a  united states  ...          NaN   \n",
       "\n",
       "                                                                 recordset  \\\n",
       "uuid                                                                         \n",
       "70abd314-2ba7-4b72-8286-5bfbce01d0c5  04d9b721-259c-4d6b-b48f-2e23edf66c9f   \n",
       "8e38017d-129d-4014-b047-5f09a071d22a  04d9b721-259c-4d6b-b48f-2e23edf66c9f   \n",
       "\n",
       "                                           scientificname specificepithet  \\\n",
       "uuid                                                                        \n",
       "70abd314-2ba7-4b72-8286-5bfbce01d0c5  morchella crassipes       crassipes   \n",
       "8e38017d-129d-4014-b047-5f09a071d22a     morchella conica          conica   \n",
       "\n",
       "                                     startdayofyear  stateprovince  taxonid  \\\n",
       "uuid                                                                          \n",
       "70abd314-2ba7-4b72-8286-5bfbce01d0c5           77.0      tennessee  2594612   \n",
       "8e38017d-129d-4014-b047-5f09a071d22a           77.0      tennessee  9014337   \n",
       "\n",
       "                                     taxonomicstatus taxonrank  \\\n",
       "uuid                                                             \n",
       "70abd314-2ba7-4b72-8286-5bfbce01d0c5        accepted   species   \n",
       "8e38017d-129d-4014-b047-5f09a071d22a        accepted   species   \n",
       "\n",
       "                                     verbatimeventdate  \n",
       "uuid                                                    \n",
       "70abd314-2ba7-4b72-8286-5bfbce01d0c5               NaN  \n",
       "8e38017d-129d-4014-b047-5f09a071d22a               NaN  \n",
       "\n",
       "[2 rows x 44 columns]"
      ]
     },
     "metadata": {},
     "output_type": "display_data"
    },
    {
     "data": {
      "text/plain": [
       "Index(['basisofrecord', 'canonicalname', 'catalognumber', 'class',\n",
       "       'collectioncode', 'collectionid', 'collector', 'continent',\n",
       "       'coordinateuncertainty', 'country', 'countrycode', 'county',\n",
       "       'datasetid', 'datecollected', 'datemodified', 'dqs', 'etag',\n",
       "       'eventdate', 'family', 'flags', 'genus', 'geopoint', 'hasImage',\n",
       "       'hasMedia', 'indexData', 'institutioncode', 'kingdom', 'locality',\n",
       "       'mediarecords', 'municipality', 'occurrenceid', 'order', 'phylum',\n",
       "       'recordids', 'recordnumber', 'recordset', 'scientificname',\n",
       "       'specificepithet', 'startdayofyear', 'stateprovince', 'taxonid',\n",
       "       'taxonomicstatus', 'taxonrank', 'verbatimeventdate'],\n",
       "      dtype='object')"
      ]
     },
     "metadata": {},
     "output_type": "display_data"
    },
    {
     "data": {
      "text/plain": [
       "(78, 44)"
      ]
     },
     "metadata": {},
     "output_type": "display_data"
    }
   ],
   "source": [
    "# set a variable for the genus we want to query\n",
    "genusOfInterest = 'Morchella'\n",
    "\n",
    "# set a variable for the state we're interested in\n",
    "stateOfInterest = 'Tennessee' #,'Georgia','North Carolina','Alabama']\n",
    "\n",
    "# define a dictionary with the query's \"key word arguments\"\n",
    "my_query = {'genus':genusOfInterest, \"stateprovince\":stateOfInterest}\n",
    "\n",
    "# call iDigbio's api, using the query we built. The result is a dataframe.\n",
    "df = api.search_records(rq=my_query)\n",
    "\n",
    "# spotcheck what was returned\n",
    "display(df.sample(2))\n",
    "# examine the the columns available\n",
    "display(df.columns)\n",
    "# examine the total quantity of results\n",
    "display(df.shape)"
   ]
  },
  {
   "cell_type": "markdown",
   "metadata": {},
   "source": [
    "### Analyze the data using Pandas\n",
    "\n",
    "Since the result is a Pandas [\"DataFrame\"](https://pandas.pydata.org/pandas-docs/stable/reference/api/pandas.DataFrame.html), we can utalize any of the Pandas methods to analyze it. For example, `collector` is among the columns in our DataFrame. The cell below is a brief review of using Pandas and list methods to determine the most prolific collector in our DataFrame."
   ]
  },
  {
   "cell_type": "code",
   "execution_count": 48,
   "metadata": {},
   "outputs": [
    {
     "data": {
      "text/plain": [
       "0    l.r. hesler\n",
       "dtype: object"
      ]
     },
     "metadata": {},
     "output_type": "display_data"
    },
    {
     "data": {
      "text/plain": [
       "array(['p. b. matheny', 'r. swenie; a. hobbs', 'b.p. looney',\n",
       "       'c.c. braaten', 'yie hong ke', 'margaret boarts',\n",
       "       's.l. wallace, l.r. hesler', 'l.r. hesler', 'l.r. hesler & party',\n",
       "       'n. rennie & r.h. petersen', 'a.d. wolfenbarger', 'r. petersen',\n",
       "       'j.w. johnson', 'a.d. wolfenbarger & j. robinson',\n",
       "       'a.j. sharp, l.r. hesler', 's.a. cain', 'anne watson',\n",
       "       'r.h. petersen', 'a.j. sharp', 's.l.w.', 'l.r. hesler, a.j. sharp',\n",
       "       'h.m. jennison', 'l. fuller', 'mrs. a.j. sharp', 'hesler l. r.',\n",
       "       'l. r. hesler', 'geo. taylor', 'r. swenie', 's.a. cain, duncan',\n",
       "       'a.j. sharp & l.r. hesler', 'sharp; hesler', 'j.n. mccarroll',\n",
       "       'e.b. lickey', 'w.n. higgenbottom', 'wilbur duncan, s. cain',\n",
       "       'cain; duncan', 'duncan; cain', 'tenn; duncan & cain'],\n",
       "      dtype=object)"
      ]
     },
     "metadata": {},
     "output_type": "display_data"
    },
    {
     "data": {
      "text/plain": [
       "('hesler', 33)"
      ]
     },
     "metadata": {},
     "output_type": "display_data"
    },
    {
     "data": {
      "text/plain": [
       "(78, 44)"
      ]
     },
     "execution_count": 48,
     "metadata": {},
     "output_type": "execute_result"
    }
   ],
   "source": [
    "# Pandas methods:\n",
    "# find the most common collector appears to be\n",
    "display(df['collector'].mode())\n",
    "# However how many unique entries in the DataFrame are the same name written different ways\n",
    "display(df['collector'].unique())\n",
    "# store each unique entry to a list like object\n",
    "collectors = df['collector'].unique()\n",
    "\n",
    "# List methods:\n",
    "# start with an empty list\n",
    "collectorTerms = []\n",
    "# for iterate over each entry in the \n",
    "for collectorName in collectors:  \n",
    "    collectorName = collectorName.strip()\n",
    "    collectorTerms.extend(collectorName.split())    \n",
    "\n",
    "long_collector_terms = []\n",
    "for singleTerm in collectorTerms:\n",
    "    singleTerm = singleTerm.strip(\" .;,\")\n",
    "    if len(singleTerm) > 3:\n",
    "        long_collector_terms.append(singleTerm)\n",
    "\n",
    "collector_count = {}\n",
    "for term in long_collector_terms:\n",
    "    row_condition = df['collector'].str.contains(term)\n",
    "    results = df.loc[row_condition,:]\n",
    "    rowCount, colCount = results.shape\n",
    "    collector_count[term] = rowCount\n",
    "\n",
    "    \n",
    "import operator\n",
    "prolific = max(collector_count.items(), key=operator.itemgetter(1))\n",
    "display(prolific)\n",
    "\n",
    "df.shape"
   ]
  },
  {
   "cell_type": "code",
   "execution_count": null,
   "metadata": {},
   "outputs": [],
   "source": []
  },
  {
   "cell_type": "code",
   "execution_count": null,
   "metadata": {},
   "outputs": [],
   "source": []
  },
  {
   "cell_type": "code",
   "execution_count": null,
   "metadata": {},
   "outputs": [],
   "source": []
  },
  {
   "cell_type": "markdown",
   "metadata": {},
   "source": [
    "<a id='dropna'></a>\n",
    "There are many columns in the pandas_output DataFrame:\n",
    "\n",
    "- ['eventdate'](https://terms.tdwg.org/wiki/dwc:eventDate) column stores the date the specimen was collected\n",
    "\n",
    "- ['startdayofyear'](https://terms.tdwg.org/wiki/dwc:startDayOfYear) column is the day of the year (e.g., 1 is January 1st).\n",
    "\n",
    "We can use this data to determine the most frequent day of the year Morel's are found in this region.\n"
   ]
  },
  {
   "cell_type": "code",
   "execution_count": 156,
   "metadata": {},
   "outputs": [
    {
     "name": "stdout",
     "output_type": "stream",
     "text": [
      "(21, 46)\n"
     ]
    }
   ],
   "source": [
    "# start by dropping all records which have no data in 'eventdate'\n",
    "# notice we save the result of dropna back to the pandas_output.\n",
    "# this means we overwrite pandas_output the results after dropping the null values\n",
    "pandas_output = pandas_output.dropna(subset=['eventdate'])\n",
    "\n",
    "# before we move on we should check how many records are left\n",
    "# remember the shape attribute is a tuple of (rows, columns)\n",
    "print(pandas_output.shape)"
   ]
  },
  {
   "cell_type": "code",
   "execution_count": 157,
   "metadata": {},
   "outputs": [
    {
     "name": "stdout",
     "output_type": "stream",
     "text": [
      "The average day of the year for Morchella in ['Tennessee', 'Georgia', 'North Carolina', 'Alabama'] is: 100.875.\n",
      "The current date & time is: 2019-06-03 14:29:49.752707.\n",
      "The current year is 2019\n",
      "The average day for collecting morels is 2019-04-11.\n"
     ]
    }
   ],
   "source": [
    "# Calculate the mean of the 'startdayofyear' column. \n",
    "# notice we included the parameter \"skipna=True,\"\n",
    "# remember Shift+Tab while the cursor is inside a function call displays that function's options.\n",
    "avgDayOfYear = pandas_output['startdayofyear'].mean(skipna=True)\n",
    "print(f'The average day of the year for {genusOfInterest} in {nearbyStates} is: {avgDayOfYear}.')\n",
    "\n",
    "# the avgDayOfYear is useful but how do we make this information more useable?\n",
    "# Let's convert this to a date by adding the avgDayOfYear to a January 1st of this year.\n",
    "# First we'll import the \"datetime\" library which comes with python.\n",
    "import datetime\n",
    "\n",
    "# Using the datetime library's \"now()\" function, save the current date to a variable\n",
    "currentDate = datetime.datetime.now()\n",
    "# display the results of the current date\n",
    "print(f'The current date & time is: {currentDate}.')\n",
    "# The currentDate produced has a \".year\" attribute\n",
    "thisYear = currentDate.year\n",
    "print(f'The current year is {thisYear}')\n",
    "\n",
    "# save a variable for a dateTime object representing January 1st of this year.\n",
    "startOfYear = datetime.date(thisYear,1,1)\n",
    "\n",
    "# add the avgDayOfYear, to get this year's best date\n",
    "# datetime's timedelta function returns the difference between two datetime values (as a date).\n",
    "bestDate = startOfYear + datetime.timedelta(avgDayOfYear)\n",
    "\n",
    "# print the results\n",
    "print(f'The average day for collecting morels is {bestDate}.')"
   ]
  },
  {
   "cell_type": "markdown",
   "metadata": {},
   "source": [
    "<a id='activityMorel'></a>\n",
    "### _**Activity: Midwest morel hunting**_\n",
    "Often scripts are written using an example or template as a starting point. In the cell(s) below, modify the morel hunting example by changing the states checked to ones found in the Midwest. To do this, start by referencing the [the initial query we built](#query)."
   ]
  },
  {
   "cell_type": "markdown",
   "metadata": {},
   "source": [
    "<img src=\"assets/middle3-1.png\">"
   ]
  },
  {
   "cell_type": "code",
   "execution_count": null,
   "metadata": {},
   "outputs": [],
   "source": []
  },
  {
   "cell_type": "markdown",
   "metadata": {},
   "source": [
    "<a id='publicAPIs'></a>\n",
    "### Public web APIs:\n",
    "\n",
    "[datetime documentation](https://docs.python.org/3/library/datetime.html)\n",
    "\n",
    "[Pandas documentation](http://pandas.pydata.org/pandas-docs/stable/)\n",
    "\n",
    "[list of public APIs](https://github.com/toddmotto/public-apis)\n",
    "\n",
    "[iDigBio's Python API (examples and documentation)](https://github.com/iDigBio/idigbio-python-client)"
   ]
  },
  {
   "cell_type": "markdown",
   "metadata": {},
   "source": [
    "<a id='operators'></a>\n",
    "### Operators references\n",
    "\n",
    "#### Arithmetic\n",
    "|Type|Python|\n",
    "|-----|-----|\n",
    "|Addition|+|\n",
    "|Subtraction|-|\n",
    "|Multiplication|*|\n",
    "|Division|/|\n",
    "|Floor Division|//|\n",
    "|Squared|**|\n",
    "|Modulo|%|\n",
    "\n",
    "#### Logic\n",
    "\n",
    "|Normal|Python|Alternative\n",
    "|-----|-----|-----|\n",
    "|And|and|-|\n",
    "|Or|or|-|\n",
    "|Not|not|!|\n",
    "|More than|>|-|\n",
    "|Less than|<|-|\n",
    "|Equal to|==|-|\n",
    "|Not equal to|!=|-|\n",
    "|More than or equal to|>=|-|\n",
    "|Less than or equal to|<=|-|\n",
    "\n",
    "#### Assignment\n",
    "|Type|Python|\n",
    "|-----|-----|\n",
    "|Assign|=|\n",
    "|Add to|+=|\n",
    "|Subtract to|-=|\n",
    "|Multiply to|*=|\n",
    "|Divide to|/=|\n",
    "|Floor divide to|//=|\n",
    "|Modulo to|%=|\n"
   ]
  }
 ],
 "metadata": {
  "kernelspec": {
   "display_name": "Python 3",
   "language": "python",
   "name": "python3"
  },
  "language_info": {
   "codemirror_mode": {
    "name": "ipython",
    "version": 3
   },
   "file_extension": ".py",
   "mimetype": "text/x-python",
   "name": "python",
   "nbconvert_exporter": "python",
   "pygments_lexer": "ipython3",
   "version": "3.7.3"
  }
 },
 "nbformat": 4,
 "nbformat_minor": 2
}
